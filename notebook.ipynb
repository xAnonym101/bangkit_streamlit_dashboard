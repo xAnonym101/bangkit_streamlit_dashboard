{
  "cells": [
    {
      "cell_type": "markdown",
      "metadata": {
        "id": "H9wADwK78DCz"
      },
      "source": [
        "# Proyek Analisis Data: Bike Sharing Dataset\n",
        "- **Nama: STEVEN GONAWAN\n",
        "- **Email: xvgonst@gmail.com\n",
        "- **ID Dicoding: steven_gonawan_NDxe"
      ]
    },
    {
      "cell_type": "markdown",
      "metadata": {
        "id": "eE0raob58DC0"
      },
      "source": [
        "## Menentukan Pertanyaan Bisnis"
      ]
    },
    {
      "cell_type": "markdown",
      "metadata": {
        "id": "GmQeQ5YF8DC0"
      },
      "source": [
        "- Pertanyaan 1: Min dan Max peminjaman sepeda pada musim semi vs musim dingin per harinya lebih tinggi siapa?\n",
        "- Pertanyaan 2: Apakah hari kerja memiliki peminjam terlisensi lebih banyak daripada hari libur?"
      ]
    },
    {
      "cell_type": "markdown",
      "metadata": {
        "id": "H-z4QGlO8DC1"
      },
      "source": [
        "## Import Semua Packages/Library yang Digunakan"
      ]
    },
    {
      "cell_type": "code",
      "execution_count": 6,
      "metadata": {
        "id": "FVYwaObI8DC1"
      },
      "outputs": [],
      "source": [
        "import numpy as np\n",
        "import pandas as pd\n",
        "import matplotlib as plotter\n",
        "import seaborn as sns\n",
        "import matplotlib.pyplot as plt"
      ]
    },
    {
      "cell_type": "markdown",
      "metadata": {
        "id": "h_Sh51Xy8DC1"
      },
      "source": [
        "## Data Wrangling"
      ]
    },
    {
      "cell_type": "markdown",
      "metadata": {
        "id": "sXU2GBYu8DC1"
      },
      "source": [
        "### Gathering Data"
      ]
    },
    {
      "cell_type": "code",
      "execution_count": 7,
      "metadata": {
        "id": "zjCBk1BI8DC1"
      },
      "outputs": [
        {
          "data": {
            "text/html": [
              "<div>\n",
              "<style scoped>\n",
              "    .dataframe tbody tr th:only-of-type {\n",
              "        vertical-align: middle;\n",
              "    }\n",
              "\n",
              "    .dataframe tbody tr th {\n",
              "        vertical-align: top;\n",
              "    }\n",
              "\n",
              "    .dataframe thead th {\n",
              "        text-align: right;\n",
              "    }\n",
              "</style>\n",
              "<table border=\"1\" class=\"dataframe\">\n",
              "  <thead>\n",
              "    <tr style=\"text-align: right;\">\n",
              "      <th></th>\n",
              "      <th>instant</th>\n",
              "      <th>dteday</th>\n",
              "      <th>season</th>\n",
              "      <th>yr</th>\n",
              "      <th>mnth</th>\n",
              "      <th>holiday</th>\n",
              "      <th>weekday</th>\n",
              "      <th>workingday</th>\n",
              "      <th>weathersit</th>\n",
              "      <th>temp</th>\n",
              "      <th>atemp</th>\n",
              "      <th>hum</th>\n",
              "      <th>windspeed</th>\n",
              "      <th>casual</th>\n",
              "      <th>registered</th>\n",
              "      <th>cnt</th>\n",
              "    </tr>\n",
              "  </thead>\n",
              "  <tbody>\n",
              "    <tr>\n",
              "      <th>611</th>\n",
              "      <td>612</td>\n",
              "      <td>2012-09-03</td>\n",
              "      <td>3</td>\n",
              "      <td>1</td>\n",
              "      <td>9</td>\n",
              "      <td>1</td>\n",
              "      <td>1</td>\n",
              "      <td>0</td>\n",
              "      <td>1</td>\n",
              "      <td>0.707500</td>\n",
              "      <td>0.661629</td>\n",
              "      <td>0.790833</td>\n",
              "      <td>0.151121</td>\n",
              "      <td>1965</td>\n",
              "      <td>4069</td>\n",
              "      <td>6034</td>\n",
              "    </tr>\n",
              "    <tr>\n",
              "      <th>686</th>\n",
              "      <td>687</td>\n",
              "      <td>2012-11-17</td>\n",
              "      <td>4</td>\n",
              "      <td>1</td>\n",
              "      <td>11</td>\n",
              "      <td>0</td>\n",
              "      <td>6</td>\n",
              "      <td>0</td>\n",
              "      <td>1</td>\n",
              "      <td>0.325000</td>\n",
              "      <td>0.326383</td>\n",
              "      <td>0.545417</td>\n",
              "      <td>0.179729</td>\n",
              "      <td>1313</td>\n",
              "      <td>4316</td>\n",
              "      <td>5629</td>\n",
              "    </tr>\n",
              "    <tr>\n",
              "      <th>678</th>\n",
              "      <td>679</td>\n",
              "      <td>2012-11-09</td>\n",
              "      <td>4</td>\n",
              "      <td>1</td>\n",
              "      <td>11</td>\n",
              "      <td>0</td>\n",
              "      <td>5</td>\n",
              "      <td>1</td>\n",
              "      <td>1</td>\n",
              "      <td>0.361667</td>\n",
              "      <td>0.355413</td>\n",
              "      <td>0.540833</td>\n",
              "      <td>0.214558</td>\n",
              "      <td>709</td>\n",
              "      <td>5283</td>\n",
              "      <td>5992</td>\n",
              "    </tr>\n",
              "    <tr>\n",
              "      <th>513</th>\n",
              "      <td>514</td>\n",
              "      <td>2012-05-28</td>\n",
              "      <td>2</td>\n",
              "      <td>1</td>\n",
              "      <td>5</td>\n",
              "      <td>1</td>\n",
              "      <td>1</td>\n",
              "      <td>0</td>\n",
              "      <td>1</td>\n",
              "      <td>0.712500</td>\n",
              "      <td>0.679300</td>\n",
              "      <td>0.676250</td>\n",
              "      <td>0.196521</td>\n",
              "      <td>2557</td>\n",
              "      <td>3486</td>\n",
              "      <td>6043</td>\n",
              "    </tr>\n",
              "    <tr>\n",
              "      <th>454</th>\n",
              "      <td>455</td>\n",
              "      <td>2012-03-30</td>\n",
              "      <td>2</td>\n",
              "      <td>1</td>\n",
              "      <td>3</td>\n",
              "      <td>0</td>\n",
              "      <td>5</td>\n",
              "      <td>1</td>\n",
              "      <td>2</td>\n",
              "      <td>0.370000</td>\n",
              "      <td>0.375621</td>\n",
              "      <td>0.580833</td>\n",
              "      <td>0.138067</td>\n",
              "      <td>796</td>\n",
              "      <td>4663</td>\n",
              "      <td>5459</td>\n",
              "    </tr>\n",
              "  </tbody>\n",
              "</table>\n",
              "</div>"
            ],
            "text/plain": [
              "     instant      dteday  season  yr  mnth  holiday  weekday  workingday  \\\n",
              "611      612  2012-09-03       3   1     9        1        1           0   \n",
              "686      687  2012-11-17       4   1    11        0        6           0   \n",
              "678      679  2012-11-09       4   1    11        0        5           1   \n",
              "513      514  2012-05-28       2   1     5        1        1           0   \n",
              "454      455  2012-03-30       2   1     3        0        5           1   \n",
              "\n",
              "     weathersit      temp     atemp       hum  windspeed  casual  registered  \\\n",
              "611           1  0.707500  0.661629  0.790833   0.151121    1965        4069   \n",
              "686           1  0.325000  0.326383  0.545417   0.179729    1313        4316   \n",
              "678           1  0.361667  0.355413  0.540833   0.214558     709        5283   \n",
              "513           1  0.712500  0.679300  0.676250   0.196521    2557        3486   \n",
              "454           2  0.370000  0.375621  0.580833   0.138067     796        4663   \n",
              "\n",
              "      cnt  \n",
              "611  6034  \n",
              "686  5629  \n",
              "678  5992  \n",
              "513  6043  \n",
              "454  5459  "
            ]
          },
          "execution_count": 7,
          "metadata": {},
          "output_type": "execute_result"
        }
      ],
      "source": [
        "#ambil data dari day.csv\n",
        "days_data = pd.read_csv(r\"C:\\Users\\steve\\Downloads\\submission\\data\\day.csv\", delimiter=\",\")\n",
        "days_data.sample(n = 5)"
      ]
    },
    {
      "cell_type": "code",
      "execution_count": 8,
      "metadata": {},
      "outputs": [
        {
          "data": {
            "text/html": [
              "<div>\n",
              "<style scoped>\n",
              "    .dataframe tbody tr th:only-of-type {\n",
              "        vertical-align: middle;\n",
              "    }\n",
              "\n",
              "    .dataframe tbody tr th {\n",
              "        vertical-align: top;\n",
              "    }\n",
              "\n",
              "    .dataframe thead th {\n",
              "        text-align: right;\n",
              "    }\n",
              "</style>\n",
              "<table border=\"1\" class=\"dataframe\">\n",
              "  <thead>\n",
              "    <tr style=\"text-align: right;\">\n",
              "      <th></th>\n",
              "      <th>instant</th>\n",
              "      <th>dteday</th>\n",
              "      <th>season</th>\n",
              "      <th>yr</th>\n",
              "      <th>mnth</th>\n",
              "      <th>hr</th>\n",
              "      <th>holiday</th>\n",
              "      <th>weekday</th>\n",
              "      <th>workingday</th>\n",
              "      <th>weathersit</th>\n",
              "      <th>temp</th>\n",
              "      <th>atemp</th>\n",
              "      <th>hum</th>\n",
              "      <th>windspeed</th>\n",
              "      <th>casual</th>\n",
              "      <th>registered</th>\n",
              "      <th>cnt</th>\n",
              "    </tr>\n",
              "  </thead>\n",
              "  <tbody>\n",
              "    <tr>\n",
              "      <th>13552</th>\n",
              "      <td>13553</td>\n",
              "      <td>2012-07-23</td>\n",
              "      <td>3</td>\n",
              "      <td>1</td>\n",
              "      <td>7</td>\n",
              "      <td>21</td>\n",
              "      <td>0</td>\n",
              "      <td>1</td>\n",
              "      <td>1</td>\n",
              "      <td>1</td>\n",
              "      <td>0.76</td>\n",
              "      <td>0.7121</td>\n",
              "      <td>0.62</td>\n",
              "      <td>0.1940</td>\n",
              "      <td>45</td>\n",
              "      <td>251</td>\n",
              "      <td>296</td>\n",
              "    </tr>\n",
              "    <tr>\n",
              "      <th>7767</th>\n",
              "      <td>7768</td>\n",
              "      <td>2011-11-25</td>\n",
              "      <td>4</td>\n",
              "      <td>0</td>\n",
              "      <td>11</td>\n",
              "      <td>6</td>\n",
              "      <td>0</td>\n",
              "      <td>5</td>\n",
              "      <td>1</td>\n",
              "      <td>1</td>\n",
              "      <td>0.26</td>\n",
              "      <td>0.2727</td>\n",
              "      <td>0.81</td>\n",
              "      <td>0.1045</td>\n",
              "      <td>4</td>\n",
              "      <td>9</td>\n",
              "      <td>13</td>\n",
              "    </tr>\n",
              "    <tr>\n",
              "      <th>11669</th>\n",
              "      <td>11670</td>\n",
              "      <td>2012-05-06</td>\n",
              "      <td>2</td>\n",
              "      <td>1</td>\n",
              "      <td>5</td>\n",
              "      <td>10</td>\n",
              "      <td>0</td>\n",
              "      <td>0</td>\n",
              "      <td>0</td>\n",
              "      <td>2</td>\n",
              "      <td>0.54</td>\n",
              "      <td>0.5152</td>\n",
              "      <td>0.77</td>\n",
              "      <td>0.1045</td>\n",
              "      <td>112</td>\n",
              "      <td>221</td>\n",
              "      <td>333</td>\n",
              "    </tr>\n",
              "    <tr>\n",
              "      <th>14182</th>\n",
              "      <td>14183</td>\n",
              "      <td>2012-08-19</td>\n",
              "      <td>3</td>\n",
              "      <td>1</td>\n",
              "      <td>8</td>\n",
              "      <td>3</td>\n",
              "      <td>0</td>\n",
              "      <td>0</td>\n",
              "      <td>0</td>\n",
              "      <td>2</td>\n",
              "      <td>0.62</td>\n",
              "      <td>0.6061</td>\n",
              "      <td>0.61</td>\n",
              "      <td>0.1642</td>\n",
              "      <td>21</td>\n",
              "      <td>34</td>\n",
              "      <td>55</td>\n",
              "    </tr>\n",
              "    <tr>\n",
              "      <th>12324</th>\n",
              "      <td>12325</td>\n",
              "      <td>2012-06-02</td>\n",
              "      <td>2</td>\n",
              "      <td>1</td>\n",
              "      <td>6</td>\n",
              "      <td>17</td>\n",
              "      <td>0</td>\n",
              "      <td>6</td>\n",
              "      <td>0</td>\n",
              "      <td>1</td>\n",
              "      <td>0.64</td>\n",
              "      <td>0.6212</td>\n",
              "      <td>0.36</td>\n",
              "      <td>0.0000</td>\n",
              "      <td>248</td>\n",
              "      <td>338</td>\n",
              "      <td>586</td>\n",
              "    </tr>\n",
              "  </tbody>\n",
              "</table>\n",
              "</div>"
            ],
            "text/plain": [
              "       instant      dteday  season  yr  mnth  hr  holiday  weekday  \\\n",
              "13552    13553  2012-07-23       3   1     7  21        0        1   \n",
              "7767      7768  2011-11-25       4   0    11   6        0        5   \n",
              "11669    11670  2012-05-06       2   1     5  10        0        0   \n",
              "14182    14183  2012-08-19       3   1     8   3        0        0   \n",
              "12324    12325  2012-06-02       2   1     6  17        0        6   \n",
              "\n",
              "       workingday  weathersit  temp   atemp   hum  windspeed  casual  \\\n",
              "13552           1           1  0.76  0.7121  0.62     0.1940      45   \n",
              "7767            1           1  0.26  0.2727  0.81     0.1045       4   \n",
              "11669           0           2  0.54  0.5152  0.77     0.1045     112   \n",
              "14182           0           2  0.62  0.6061  0.61     0.1642      21   \n",
              "12324           0           1  0.64  0.6212  0.36     0.0000     248   \n",
              "\n",
              "       registered  cnt  \n",
              "13552         251  296  \n",
              "7767            9   13  \n",
              "11669         221  333  \n",
              "14182          34   55  \n",
              "12324         338  586  "
            ]
          },
          "execution_count": 8,
          "metadata": {},
          "output_type": "execute_result"
        }
      ],
      "source": [
        "#ambil data dari hour.csv\n",
        "hours_data = pd.read_csv(r\"C:\\Users\\steve\\Downloads\\submission\\data\\hour.csv\", delimiter=\",\")\n",
        "hours_data.sample(n = 5)"
      ]
    },
    {
      "cell_type": "markdown",
      "metadata": {
        "id": "MMi6xGaDkbCi"
      },
      "source": [
        "**Insight:**\n",
        "- Data yang diambil adalah day.csv dan hour.csv\n",
        "- Untuk membaca kedua file tersebut, digunakan pd.read_csv()"
      ]
    },
    {
      "cell_type": "markdown",
      "metadata": {
        "id": "FHSiqaZp8DC1"
      },
      "source": [
        "### Assessing Data"
      ]
    },
    {
      "cell_type": "code",
      "execution_count": 9,
      "metadata": {
        "id": "ax-3tEjc9Cj1"
      },
      "outputs": [
        {
          "data": {
            "text/plain": [
              "0"
            ]
          },
          "execution_count": 9,
          "metadata": {},
          "output_type": "execute_result"
        }
      ],
      "source": [
        "#cek data duplikat untuk days_data\n",
        "days_data.duplicated().sum()"
      ]
    },
    {
      "cell_type": "code",
      "execution_count": 10,
      "metadata": {},
      "outputs": [
        {
          "data": {
            "text/plain": [
              "instant       0\n",
              "dteday        0\n",
              "season        0\n",
              "yr            0\n",
              "mnth          0\n",
              "holiday       0\n",
              "weekday       0\n",
              "workingday    0\n",
              "weathersit    0\n",
              "temp          0\n",
              "atemp         0\n",
              "hum           0\n",
              "windspeed     0\n",
              "casual        0\n",
              "registered    0\n",
              "cnt           0\n",
              "dtype: int64"
            ]
          },
          "execution_count": 10,
          "metadata": {},
          "output_type": "execute_result"
        }
      ],
      "source": [
        "#cek data null value untuk days_data\n",
        "days_data.isnull().sum()"
      ]
    },
    {
      "cell_type": "code",
      "execution_count": 11,
      "metadata": {},
      "outputs": [
        {
          "data": {
            "text/plain": [
              "0"
            ]
          },
          "execution_count": 11,
          "metadata": {},
          "output_type": "execute_result"
        }
      ],
      "source": [
        "#cek data duplikat untuk hours_data\n",
        "hours_data.duplicated().sum()"
      ]
    },
    {
      "cell_type": "code",
      "execution_count": 12,
      "metadata": {},
      "outputs": [
        {
          "data": {
            "text/plain": [
              "instant       0\n",
              "dteday        0\n",
              "season        0\n",
              "yr            0\n",
              "mnth          0\n",
              "hr            0\n",
              "holiday       0\n",
              "weekday       0\n",
              "workingday    0\n",
              "weathersit    0\n",
              "temp          0\n",
              "atemp         0\n",
              "hum           0\n",
              "windspeed     0\n",
              "casual        0\n",
              "registered    0\n",
              "cnt           0\n",
              "dtype: int64"
            ]
          },
          "execution_count": 12,
          "metadata": {},
          "output_type": "execute_result"
        }
      ],
      "source": [
        "#cek data null value untuk hours_data\n",
        "hours_data.isnull().sum()"
      ]
    },
    {
      "cell_type": "markdown",
      "metadata": {
        "id": "7dtxhAPrkhPL"
      },
      "source": [
        "**Insight:**\n",
        "- Mengecek apakah ada data duplikat atau null yang dapat dilihat tidak ada hasil duplikat atau null.\n",
        "- gunakan .isnull() dan .duplicated() untuk mengecek."
      ]
    },
    {
      "cell_type": "markdown",
      "metadata": {
        "id": "EhN5R4hr8DC1"
      },
      "source": [
        "### Cleaning Data"
      ]
    },
    {
      "cell_type": "code",
      "execution_count": 13,
      "metadata": {
        "id": "jVnYpprE9Evz"
      },
      "outputs": [
        {
          "data": {
            "text/html": [
              "<div>\n",
              "<style scoped>\n",
              "    .dataframe tbody tr th:only-of-type {\n",
              "        vertical-align: middle;\n",
              "    }\n",
              "\n",
              "    .dataframe tbody tr th {\n",
              "        vertical-align: top;\n",
              "    }\n",
              "\n",
              "    .dataframe thead th {\n",
              "        text-align: right;\n",
              "    }\n",
              "</style>\n",
              "<table border=\"1\" class=\"dataframe\">\n",
              "  <thead>\n",
              "    <tr style=\"text-align: right;\">\n",
              "      <th></th>\n",
              "      <th>instant</th>\n",
              "      <th>dteday</th>\n",
              "      <th>season</th>\n",
              "      <th>yr</th>\n",
              "      <th>mnth</th>\n",
              "      <th>holiday</th>\n",
              "      <th>weekday</th>\n",
              "      <th>workingday</th>\n",
              "      <th>casual</th>\n",
              "      <th>registered</th>\n",
              "      <th>cnt</th>\n",
              "    </tr>\n",
              "  </thead>\n",
              "  <tbody>\n",
              "    <tr>\n",
              "      <th>38</th>\n",
              "      <td>39</td>\n",
              "      <td>2011-02-08</td>\n",
              "      <td>1</td>\n",
              "      <td>0</td>\n",
              "      <td>2</td>\n",
              "      <td>0</td>\n",
              "      <td>2</td>\n",
              "      <td>1</td>\n",
              "      <td>64</td>\n",
              "      <td>1466</td>\n",
              "      <td>1530</td>\n",
              "    </tr>\n",
              "    <tr>\n",
              "      <th>659</th>\n",
              "      <td>660</td>\n",
              "      <td>2012-10-21</td>\n",
              "      <td>4</td>\n",
              "      <td>1</td>\n",
              "      <td>10</td>\n",
              "      <td>0</td>\n",
              "      <td>0</td>\n",
              "      <td>0</td>\n",
              "      <td>2132</td>\n",
              "      <td>4692</td>\n",
              "      <td>6824</td>\n",
              "    </tr>\n",
              "    <tr>\n",
              "      <th>386</th>\n",
              "      <td>387</td>\n",
              "      <td>2012-01-22</td>\n",
              "      <td>1</td>\n",
              "      <td>1</td>\n",
              "      <td>1</td>\n",
              "      <td>0</td>\n",
              "      <td>0</td>\n",
              "      <td>0</td>\n",
              "      <td>196</td>\n",
              "      <td>1781</td>\n",
              "      <td>1977</td>\n",
              "    </tr>\n",
              "    <tr>\n",
              "      <th>137</th>\n",
              "      <td>138</td>\n",
              "      <td>2011-05-18</td>\n",
              "      <td>2</td>\n",
              "      <td>0</td>\n",
              "      <td>5</td>\n",
              "      <td>0</td>\n",
              "      <td>3</td>\n",
              "      <td>1</td>\n",
              "      <td>536</td>\n",
              "      <td>3319</td>\n",
              "      <td>3855</td>\n",
              "    </tr>\n",
              "    <tr>\n",
              "      <th>590</th>\n",
              "      <td>591</td>\n",
              "      <td>2012-08-13</td>\n",
              "      <td>3</td>\n",
              "      <td>1</td>\n",
              "      <td>8</td>\n",
              "      <td>0</td>\n",
              "      <td>1</td>\n",
              "      <td>1</td>\n",
              "      <td>1207</td>\n",
              "      <td>5676</td>\n",
              "      <td>6883</td>\n",
              "    </tr>\n",
              "    <tr>\n",
              "      <th>526</th>\n",
              "      <td>527</td>\n",
              "      <td>2012-06-10</td>\n",
              "      <td>2</td>\n",
              "      <td>1</td>\n",
              "      <td>6</td>\n",
              "      <td>0</td>\n",
              "      <td>0</td>\n",
              "      <td>0</td>\n",
              "      <td>2224</td>\n",
              "      <td>4374</td>\n",
              "      <td>6598</td>\n",
              "    </tr>\n",
              "    <tr>\n",
              "      <th>504</th>\n",
              "      <td>505</td>\n",
              "      <td>2012-05-19</td>\n",
              "      <td>2</td>\n",
              "      <td>1</td>\n",
              "      <td>5</td>\n",
              "      <td>0</td>\n",
              "      <td>6</td>\n",
              "      <td>0</td>\n",
              "      <td>3410</td>\n",
              "      <td>4884</td>\n",
              "      <td>8294</td>\n",
              "    </tr>\n",
              "    <tr>\n",
              "      <th>141</th>\n",
              "      <td>142</td>\n",
              "      <td>2011-05-22</td>\n",
              "      <td>2</td>\n",
              "      <td>0</td>\n",
              "      <td>5</td>\n",
              "      <td>0</td>\n",
              "      <td>0</td>\n",
              "      <td>0</td>\n",
              "      <td>1576</td>\n",
              "      <td>3084</td>\n",
              "      <td>4660</td>\n",
              "    </tr>\n",
              "    <tr>\n",
              "      <th>15</th>\n",
              "      <td>16</td>\n",
              "      <td>2011-01-16</td>\n",
              "      <td>1</td>\n",
              "      <td>0</td>\n",
              "      <td>1</td>\n",
              "      <td>0</td>\n",
              "      <td>0</td>\n",
              "      <td>0</td>\n",
              "      <td>251</td>\n",
              "      <td>953</td>\n",
              "      <td>1204</td>\n",
              "    </tr>\n",
              "    <tr>\n",
              "      <th>464</th>\n",
              "      <td>465</td>\n",
              "      <td>2012-04-09</td>\n",
              "      <td>2</td>\n",
              "      <td>1</td>\n",
              "      <td>4</td>\n",
              "      <td>0</td>\n",
              "      <td>1</td>\n",
              "      <td>1</td>\n",
              "      <td>905</td>\n",
              "      <td>4680</td>\n",
              "      <td>5585</td>\n",
              "    </tr>\n",
              "  </tbody>\n",
              "</table>\n",
              "</div>"
            ],
            "text/plain": [
              "     instant      dteday  season  yr  mnth  holiday  weekday  workingday  \\\n",
              "38        39  2011-02-08       1   0     2        0        2           1   \n",
              "659      660  2012-10-21       4   1    10        0        0           0   \n",
              "386      387  2012-01-22       1   1     1        0        0           0   \n",
              "137      138  2011-05-18       2   0     5        0        3           1   \n",
              "590      591  2012-08-13       3   1     8        0        1           1   \n",
              "526      527  2012-06-10       2   1     6        0        0           0   \n",
              "504      505  2012-05-19       2   1     5        0        6           0   \n",
              "141      142  2011-05-22       2   0     5        0        0           0   \n",
              "15        16  2011-01-16       1   0     1        0        0           0   \n",
              "464      465  2012-04-09       2   1     4        0        1           1   \n",
              "\n",
              "     casual  registered   cnt  \n",
              "38       64        1466  1530  \n",
              "659    2132        4692  6824  \n",
              "386     196        1781  1977  \n",
              "137     536        3319  3855  \n",
              "590    1207        5676  6883  \n",
              "526    2224        4374  6598  \n",
              "504    3410        4884  8294  \n",
              "141    1576        3084  4660  \n",
              "15      251         953  1204  \n",
              "464     905        4680  5585  "
            ]
          },
          "execution_count": 13,
          "metadata": {},
          "output_type": "execute_result"
        }
      ],
      "source": [
        "#drop kolom weathersit, temp, atemp, hum, windspeed pada filtered_days_data\n",
        "filtered_days_data = days_data.drop(columns=[\"weathersit\", \"temp\", \"atemp\", \"hum\", \"windspeed\"])\n",
        "filtered_days_data.sample(n = 10)"
      ]
    },
    {
      "cell_type": "code",
      "execution_count": 14,
      "metadata": {},
      "outputs": [
        {
          "name": "stdout",
          "output_type": "stream",
          "text": [
            "object\n",
            "datetime64[ns]\n"
          ]
        }
      ],
      "source": [
        "#konversi dteday yang (####) menjadi format date-time yang benar untuk filtered_days_data\n",
        "#asal:\n",
        "print(filtered_days_data[\"dteday\"].dtype)\n",
        "\n",
        "#akhir:\n",
        "filtered_days_data[\"dteday\"] = pd.to_datetime(filtered_days_data[\"dteday\"])\n",
        "filtered_days_data.sample(n=10)\n",
        "print(filtered_days_data[\"dteday\"].dtype)"
      ]
    },
    {
      "cell_type": "code",
      "execution_count": 15,
      "metadata": {},
      "outputs": [
        {
          "data": {
            "text/html": [
              "<div>\n",
              "<style scoped>\n",
              "    .dataframe tbody tr th:only-of-type {\n",
              "        vertical-align: middle;\n",
              "    }\n",
              "\n",
              "    .dataframe tbody tr th {\n",
              "        vertical-align: top;\n",
              "    }\n",
              "\n",
              "    .dataframe thead th {\n",
              "        text-align: right;\n",
              "    }\n",
              "</style>\n",
              "<table border=\"1\" class=\"dataframe\">\n",
              "  <thead>\n",
              "    <tr style=\"text-align: right;\">\n",
              "      <th></th>\n",
              "      <th>instant</th>\n",
              "      <th>dteday</th>\n",
              "      <th>season</th>\n",
              "      <th>yr</th>\n",
              "      <th>mnth</th>\n",
              "      <th>hr</th>\n",
              "      <th>holiday</th>\n",
              "      <th>weekday</th>\n",
              "      <th>workingday</th>\n",
              "      <th>casual</th>\n",
              "      <th>registered</th>\n",
              "      <th>cnt</th>\n",
              "    </tr>\n",
              "  </thead>\n",
              "  <tbody>\n",
              "    <tr>\n",
              "      <th>2855</th>\n",
              "      <td>2856</td>\n",
              "      <td>2011-05-03</td>\n",
              "      <td>2</td>\n",
              "      <td>0</td>\n",
              "      <td>5</td>\n",
              "      <td>21</td>\n",
              "      <td>0</td>\n",
              "      <td>2</td>\n",
              "      <td>1</td>\n",
              "      <td>42</td>\n",
              "      <td>183</td>\n",
              "      <td>225</td>\n",
              "    </tr>\n",
              "    <tr>\n",
              "      <th>8946</th>\n",
              "      <td>8947</td>\n",
              "      <td>2012-01-13</td>\n",
              "      <td>1</td>\n",
              "      <td>1</td>\n",
              "      <td>1</td>\n",
              "      <td>15</td>\n",
              "      <td>0</td>\n",
              "      <td>5</td>\n",
              "      <td>1</td>\n",
              "      <td>15</td>\n",
              "      <td>123</td>\n",
              "      <td>138</td>\n",
              "    </tr>\n",
              "    <tr>\n",
              "      <th>9614</th>\n",
              "      <td>9615</td>\n",
              "      <td>2012-02-10</td>\n",
              "      <td>1</td>\n",
              "      <td>1</td>\n",
              "      <td>2</td>\n",
              "      <td>13</td>\n",
              "      <td>0</td>\n",
              "      <td>5</td>\n",
              "      <td>1</td>\n",
              "      <td>22</td>\n",
              "      <td>170</td>\n",
              "      <td>192</td>\n",
              "    </tr>\n",
              "    <tr>\n",
              "      <th>14241</th>\n",
              "      <td>14242</td>\n",
              "      <td>2012-08-21</td>\n",
              "      <td>3</td>\n",
              "      <td>1</td>\n",
              "      <td>8</td>\n",
              "      <td>14</td>\n",
              "      <td>0</td>\n",
              "      <td>2</td>\n",
              "      <td>1</td>\n",
              "      <td>110</td>\n",
              "      <td>192</td>\n",
              "      <td>302</td>\n",
              "    </tr>\n",
              "    <tr>\n",
              "      <th>7402</th>\n",
              "      <td>7403</td>\n",
              "      <td>2011-11-10</td>\n",
              "      <td>4</td>\n",
              "      <td>0</td>\n",
              "      <td>11</td>\n",
              "      <td>1</td>\n",
              "      <td>0</td>\n",
              "      <td>4</td>\n",
              "      <td>1</td>\n",
              "      <td>1</td>\n",
              "      <td>10</td>\n",
              "      <td>11</td>\n",
              "    </tr>\n",
              "    <tr>\n",
              "      <th>630</th>\n",
              "      <td>631</td>\n",
              "      <td>2011-01-29</td>\n",
              "      <td>1</td>\n",
              "      <td>0</td>\n",
              "      <td>1</td>\n",
              "      <td>13</td>\n",
              "      <td>0</td>\n",
              "      <td>6</td>\n",
              "      <td>0</td>\n",
              "      <td>9</td>\n",
              "      <td>56</td>\n",
              "      <td>65</td>\n",
              "    </tr>\n",
              "    <tr>\n",
              "      <th>3124</th>\n",
              "      <td>3125</td>\n",
              "      <td>2011-05-15</td>\n",
              "      <td>2</td>\n",
              "      <td>0</td>\n",
              "      <td>5</td>\n",
              "      <td>2</td>\n",
              "      <td>0</td>\n",
              "      <td>0</td>\n",
              "      <td>0</td>\n",
              "      <td>13</td>\n",
              "      <td>37</td>\n",
              "      <td>50</td>\n",
              "    </tr>\n",
              "    <tr>\n",
              "      <th>6222</th>\n",
              "      <td>6223</td>\n",
              "      <td>2011-09-21</td>\n",
              "      <td>3</td>\n",
              "      <td>0</td>\n",
              "      <td>9</td>\n",
              "      <td>20</td>\n",
              "      <td>0</td>\n",
              "      <td>3</td>\n",
              "      <td>1</td>\n",
              "      <td>11</td>\n",
              "      <td>149</td>\n",
              "      <td>160</td>\n",
              "    </tr>\n",
              "    <tr>\n",
              "      <th>1180</th>\n",
              "      <td>1181</td>\n",
              "      <td>2011-02-21</td>\n",
              "      <td>1</td>\n",
              "      <td>0</td>\n",
              "      <td>2</td>\n",
              "      <td>23</td>\n",
              "      <td>1</td>\n",
              "      <td>1</td>\n",
              "      <td>0</td>\n",
              "      <td>0</td>\n",
              "      <td>2</td>\n",
              "      <td>2</td>\n",
              "    </tr>\n",
              "    <tr>\n",
              "      <th>10887</th>\n",
              "      <td>10888</td>\n",
              "      <td>2012-04-03</td>\n",
              "      <td>2</td>\n",
              "      <td>1</td>\n",
              "      <td>4</td>\n",
              "      <td>19</td>\n",
              "      <td>0</td>\n",
              "      <td>2</td>\n",
              "      <td>1</td>\n",
              "      <td>98</td>\n",
              "      <td>460</td>\n",
              "      <td>558</td>\n",
              "    </tr>\n",
              "  </tbody>\n",
              "</table>\n",
              "</div>"
            ],
            "text/plain": [
              "       instant      dteday  season  yr  mnth  hr  holiday  weekday  \\\n",
              "2855      2856  2011-05-03       2   0     5  21        0        2   \n",
              "8946      8947  2012-01-13       1   1     1  15        0        5   \n",
              "9614      9615  2012-02-10       1   1     2  13        0        5   \n",
              "14241    14242  2012-08-21       3   1     8  14        0        2   \n",
              "7402      7403  2011-11-10       4   0    11   1        0        4   \n",
              "630        631  2011-01-29       1   0     1  13        0        6   \n",
              "3124      3125  2011-05-15       2   0     5   2        0        0   \n",
              "6222      6223  2011-09-21       3   0     9  20        0        3   \n",
              "1180      1181  2011-02-21       1   0     2  23        1        1   \n",
              "10887    10888  2012-04-03       2   1     4  19        0        2   \n",
              "\n",
              "       workingday  casual  registered  cnt  \n",
              "2855            1      42         183  225  \n",
              "8946            1      15         123  138  \n",
              "9614            1      22         170  192  \n",
              "14241           1     110         192  302  \n",
              "7402            1       1          10   11  \n",
              "630             0       9          56   65  \n",
              "3124            0      13          37   50  \n",
              "6222            1      11         149  160  \n",
              "1180            0       0           2    2  \n",
              "10887           1      98         460  558  "
            ]
          },
          "execution_count": 15,
          "metadata": {},
          "output_type": "execute_result"
        }
      ],
      "source": [
        "#drop kolom weathersit, temp, atemp, hum, windspeed pada filtered_days_data\n",
        "filtered_hours_data = hours_data.drop(columns=[\"weathersit\", \"temp\", \"atemp\", \"hum\", \"windspeed\"])\n",
        "filtered_hours_data.sample(n = 10)"
      ]
    },
    {
      "cell_type": "code",
      "execution_count": 16,
      "metadata": {},
      "outputs": [
        {
          "name": "stdout",
          "output_type": "stream",
          "text": [
            "object\n",
            "datetime64[ns]\n"
          ]
        }
      ],
      "source": [
        "#konversi dteday yang (####) menjadi format date-time yang benar untuk filtered_hours_data\n",
        "#asal:\n",
        "print(filtered_hours_data[\"dteday\"].dtype)\n",
        "\n",
        "#akhir:\n",
        "filtered_hours_data[\"dteday\"] = pd.to_datetime(filtered_hours_data[\"dteday\"])\n",
        "filtered_hours_data.sample(n=10)\n",
        "print(filtered_hours_data[\"dteday\"].dtype)"
      ]
    },
    {
      "cell_type": "markdown",
      "metadata": {
        "id": "Q_5ejIqckiSP"
      },
      "source": [
        "**Insight:**\n",
        "1. Menghilangkan kolom yang tidak dipakai.\n",
        "2. Memperbaiki dteday yang berbentuk objek (dikarenakan format salah) dan konversi jadi datetime64."
      ]
    },
    {
      "cell_type": "markdown",
      "metadata": {
        "id": "gp-Y6wU38DC1"
      },
      "source": [
        "## Exploratory Data Analysis (EDA)"
      ]
    },
    {
      "cell_type": "markdown",
      "metadata": {
        "id": "MW7WF2kr8DC1"
      },
      "source": [
        "### Explore ..."
      ]
    },
    {
      "cell_type": "code",
      "execution_count": 17,
      "metadata": {
        "id": "e9CQCZjk8DC2"
      },
      "outputs": [
        {
          "data": {
            "text/html": [
              "<div>\n",
              "<style scoped>\n",
              "    .dataframe tbody tr th:only-of-type {\n",
              "        vertical-align: middle;\n",
              "    }\n",
              "\n",
              "    .dataframe tbody tr th {\n",
              "        vertical-align: top;\n",
              "    }\n",
              "\n",
              "    .dataframe thead tr th {\n",
              "        text-align: left;\n",
              "    }\n",
              "\n",
              "    .dataframe thead tr:last-of-type th {\n",
              "        text-align: right;\n",
              "    }\n",
              "</style>\n",
              "<table border=\"1\" class=\"dataframe\">\n",
              "  <thead>\n",
              "    <tr>\n",
              "      <th></th>\n",
              "      <th>instant</th>\n",
              "      <th colspan=\"2\" halign=\"left\">cnt</th>\n",
              "    </tr>\n",
              "    <tr>\n",
              "      <th></th>\n",
              "      <th>nunique</th>\n",
              "      <th>max</th>\n",
              "      <th>min</th>\n",
              "    </tr>\n",
              "    <tr>\n",
              "      <th>season</th>\n",
              "      <th></th>\n",
              "      <th></th>\n",
              "      <th></th>\n",
              "    </tr>\n",
              "  </thead>\n",
              "  <tbody>\n",
              "    <tr>\n",
              "      <th>1</th>\n",
              "      <td>181</td>\n",
              "      <td>7836</td>\n",
              "      <td>431</td>\n",
              "    </tr>\n",
              "    <tr>\n",
              "      <th>2</th>\n",
              "      <td>184</td>\n",
              "      <td>8362</td>\n",
              "      <td>795</td>\n",
              "    </tr>\n",
              "    <tr>\n",
              "      <th>3</th>\n",
              "      <td>188</td>\n",
              "      <td>8714</td>\n",
              "      <td>1115</td>\n",
              "    </tr>\n",
              "    <tr>\n",
              "      <th>4</th>\n",
              "      <td>178</td>\n",
              "      <td>8555</td>\n",
              "      <td>22</td>\n",
              "    </tr>\n",
              "  </tbody>\n",
              "</table>\n",
              "</div>"
            ],
            "text/plain": [
              "       instant   cnt      \n",
              "       nunique   max   min\n",
              "season                    \n",
              "1          181  7836   431\n",
              "2          184  8362   795\n",
              "3          188  8714  1115\n",
              "4          178  8555    22"
            ]
          },
          "execution_count": 17,
          "metadata": {},
          "output_type": "execute_result"
        }
      ],
      "source": [
        "#groupby() untuk filtered_days_data (pertanyaan no.1)\n",
        "minmaxD_data = filtered_days_data.groupby(by=\"season\").agg({\n",
        "    \"instant\": \"nunique\",\n",
        "    \"cnt\": [\"max\", \"min\"]\n",
        "})\n",
        "\n",
        "#print\n",
        "minmaxD_data"
      ]
    },
    {
      "cell_type": "code",
      "execution_count": 18,
      "metadata": {},
      "outputs": [
        {
          "data": {
            "text/html": [
              "<div>\n",
              "<style scoped>\n",
              "    .dataframe tbody tr th:only-of-type {\n",
              "        vertical-align: middle;\n",
              "    }\n",
              "\n",
              "    .dataframe tbody tr th {\n",
              "        vertical-align: top;\n",
              "    }\n",
              "\n",
              "    .dataframe thead th {\n",
              "        text-align: right;\n",
              "    }\n",
              "</style>\n",
              "<table border=\"1\" class=\"dataframe\">\n",
              "  <thead>\n",
              "    <tr style=\"text-align: right;\">\n",
              "      <th></th>\n",
              "      <th>instant</th>\n",
              "      <th>registered</th>\n",
              "      <th>casual</th>\n",
              "    </tr>\n",
              "    <tr>\n",
              "      <th>workingday</th>\n",
              "      <th></th>\n",
              "      <th></th>\n",
              "      <th></th>\n",
              "    </tr>\n",
              "  </thead>\n",
              "  <tbody>\n",
              "    <tr>\n",
              "      <th>0</th>\n",
              "      <td>231</td>\n",
              "      <td>2959.034632</td>\n",
              "      <td>1371.134199</td>\n",
              "    </tr>\n",
              "    <tr>\n",
              "      <th>1</th>\n",
              "      <td>500</td>\n",
              "      <td>3978.250000</td>\n",
              "      <td>606.570000</td>\n",
              "    </tr>\n",
              "  </tbody>\n",
              "</table>\n",
              "</div>"
            ],
            "text/plain": [
              "            instant   registered       casual\n",
              "workingday                                   \n",
              "0               231  2959.034632  1371.134199\n",
              "1               500  3978.250000   606.570000"
            ]
          },
          "execution_count": 18,
          "metadata": {},
          "output_type": "execute_result"
        }
      ],
      "source": [
        "#groupby() untuk filtered_days_data (pertanyaan no.2)\n",
        "borrowerD_data = filtered_days_data.groupby(by=\"workingday\").agg({\n",
        "    \"instant\": \"nunique\",\n",
        "    \"registered\": \"mean\",\n",
        "    \"casual\": \"mean\"\n",
        "})\n",
        "\n",
        "#print\n",
        "borrowerD_data"
      ]
    },
    {
      "cell_type": "code",
      "execution_count": 19,
      "metadata": {},
      "outputs": [
        {
          "data": {
            "text/html": [
              "<div>\n",
              "<style scoped>\n",
              "    .dataframe tbody tr th:only-of-type {\n",
              "        vertical-align: middle;\n",
              "    }\n",
              "\n",
              "    .dataframe tbody tr th {\n",
              "        vertical-align: top;\n",
              "    }\n",
              "\n",
              "    .dataframe thead tr th {\n",
              "        text-align: left;\n",
              "    }\n",
              "\n",
              "    .dataframe thead tr:last-of-type th {\n",
              "        text-align: right;\n",
              "    }\n",
              "</style>\n",
              "<table border=\"1\" class=\"dataframe\">\n",
              "  <thead>\n",
              "    <tr>\n",
              "      <th></th>\n",
              "      <th>instant</th>\n",
              "      <th colspan=\"2\" halign=\"left\">cnt</th>\n",
              "    </tr>\n",
              "    <tr>\n",
              "      <th></th>\n",
              "      <th>nunique</th>\n",
              "      <th>max</th>\n",
              "      <th>min</th>\n",
              "    </tr>\n",
              "    <tr>\n",
              "      <th>season</th>\n",
              "      <th></th>\n",
              "      <th></th>\n",
              "      <th></th>\n",
              "    </tr>\n",
              "  </thead>\n",
              "  <tbody>\n",
              "    <tr>\n",
              "      <th>1</th>\n",
              "      <td>4242</td>\n",
              "      <td>801</td>\n",
              "      <td>1</td>\n",
              "    </tr>\n",
              "    <tr>\n",
              "      <th>2</th>\n",
              "      <td>4409</td>\n",
              "      <td>957</td>\n",
              "      <td>1</td>\n",
              "    </tr>\n",
              "    <tr>\n",
              "      <th>3</th>\n",
              "      <td>4496</td>\n",
              "      <td>977</td>\n",
              "      <td>1</td>\n",
              "    </tr>\n",
              "    <tr>\n",
              "      <th>4</th>\n",
              "      <td>4232</td>\n",
              "      <td>967</td>\n",
              "      <td>1</td>\n",
              "    </tr>\n",
              "  </tbody>\n",
              "</table>\n",
              "</div>"
            ],
            "text/plain": [
              "       instant  cnt    \n",
              "       nunique  max min\n",
              "season                 \n",
              "1         4242  801   1\n",
              "2         4409  957   1\n",
              "3         4496  977   1\n",
              "4         4232  967   1"
            ]
          },
          "execution_count": 19,
          "metadata": {},
          "output_type": "execute_result"
        }
      ],
      "source": [
        "#groupby() untuk filtered_hourss_data (pertanyaan no.1)\n",
        "minmaxH_data = filtered_hours_data.groupby(by=\"season\").agg({\n",
        "    \"instant\": \"nunique\",\n",
        "    \"cnt\": [\"max\", \"min\"]\n",
        "})\n",
        "\n",
        "#print\n",
        "minmaxH_data"
      ]
    },
    {
      "cell_type": "code",
      "execution_count": 20,
      "metadata": {},
      "outputs": [
        {
          "data": {
            "text/html": [
              "<div>\n",
              "<style scoped>\n",
              "    .dataframe tbody tr th:only-of-type {\n",
              "        vertical-align: middle;\n",
              "    }\n",
              "\n",
              "    .dataframe tbody tr th {\n",
              "        vertical-align: top;\n",
              "    }\n",
              "\n",
              "    .dataframe thead th {\n",
              "        text-align: right;\n",
              "    }\n",
              "</style>\n",
              "<table border=\"1\" class=\"dataframe\">\n",
              "  <thead>\n",
              "    <tr style=\"text-align: right;\">\n",
              "      <th></th>\n",
              "      <th>instant</th>\n",
              "      <th>registered</th>\n",
              "      <th>casual</th>\n",
              "    </tr>\n",
              "    <tr>\n",
              "      <th>workingday</th>\n",
              "      <th></th>\n",
              "      <th></th>\n",
              "      <th></th>\n",
              "    </tr>\n",
              "  </thead>\n",
              "  <tbody>\n",
              "    <tr>\n",
              "      <th>0</th>\n",
              "      <td>5514</td>\n",
              "      <td>124.0</td>\n",
              "      <td>57.0</td>\n",
              "    </tr>\n",
              "    <tr>\n",
              "      <th>1</th>\n",
              "      <td>11865</td>\n",
              "      <td>168.0</td>\n",
              "      <td>26.0</td>\n",
              "    </tr>\n",
              "  </tbody>\n",
              "</table>\n",
              "</div>"
            ],
            "text/plain": [
              "            instant  registered  casual\n",
              "workingday                             \n",
              "0              5514       124.0    57.0\n",
              "1             11865       168.0    26.0"
            ]
          },
          "execution_count": 20,
          "metadata": {},
          "output_type": "execute_result"
        }
      ],
      "source": [
        "#groupby() untuk filtered_hours_data (pertanyaan no.2)\n",
        "borrowerH_data = filtered_hours_data.groupby(by=\"workingday\").agg({\n",
        "    \"instant\": \"nunique\",\n",
        "    \"registered\": \"mean\",\n",
        "    \"casual\": \"mean\"\n",
        "})\n",
        "\n",
        "#print\n",
        "round(borrowerH_data)"
      ]
    },
    {
      "cell_type": "markdown",
      "metadata": {
        "id": "th_Lzl2Fkj9O"
      },
      "source": [
        "**Insight:**\n",
        "- Untuk pertanyaan (1) diperlukan perbandingan antara peminjaman paling tinggi dan rendah (min/max) sedangkan pertanyaan (2) diperlukan mencari mean dari peminjam terlisensi dan peminjam kasual.\n",
        "- Untuk ini, digunakan .groupby() dengan by=\"\" tergantung kebutuhan yang menjadi anchor point atau dasar yang akan dibandingkan."
      ]
    },
    {
      "cell_type": "markdown",
      "metadata": {
        "id": "zsyZjqak8DC2"
      },
      "source": [
        "## Visualization & Explanatory Analysis"
      ]
    },
    {
      "cell_type": "markdown",
      "metadata": {
        "id": "HZxOiQ6n8DC2"
      },
      "source": [
        "### Pertanyaan 1:"
      ]
    },
    {
      "cell_type": "code",
      "execution_count": 21,
      "metadata": {
        "id": "1swJUdAD8DC2"
      },
      "outputs": [
        {
          "data": {
            "image/png": "[encoded data removed]",
            "text/plain": [
              "<Figure size 800x600 with 1 Axes>"
            ]
          },
          "metadata": {},
          "output_type": "display_data"
        }
      ],
      "source": [
        "#store dalam value\n",
        "filtered_min_values = minmaxD_data.loc[[1, 4], (\"cnt\", \"min\")]\n",
        "\n",
        "#buat bar chart\n",
        "plt.figure(figsize=(8, 6))\n",
        "plt.bar([\"Semi\", \"Salju\"], filtered_min_values)\n",
        "\n",
        "#dekorasi bar chart\n",
        "for i, value in enumerate(filtered_min_values):\n",
        "    plt.text(i, value + 0.1, str(round(value, 2)), ha=\"center\", va=\"bottom\")\n",
        "plt.title(\"Perbandingan Minimum Musim Semi & Gugur\")\n",
        "plt.xlabel(\"Musim\")\n",
        "plt.ylabel(\"Jumlah\")\n",
        "\n",
        "#show bar\n",
        "plt.show()\n"
      ]
    },
    {
      "cell_type": "code",
      "execution_count": 22,
      "metadata": {},
      "outputs": [
        {
          "data": {
            "image/png": "[encoded data removed]",
            "text/plain": [
              "<Figure size 800x600 with 1 Axes>"
            ]
          },
          "metadata": {},
          "output_type": "display_data"
        }
      ],
      "source": [
        "#store dalam value\n",
        "filtered_min_values = minmaxD_data.loc[[1, 4], (\"cnt\", \"max\")]\n",
        "\n",
        "#buat bar chart\n",
        "plt.figure(figsize=(8, 6))\n",
        "plt.bar([\"Semi\", \"Salju\"], filtered_min_values)\n",
        "\n",
        "#dekorasi bar chart\n",
        "for i, value in enumerate(filtered_min_values):\n",
        "    plt.text(i, value + 0.1, str(round(value, 2)), ha=\"center\", va=\"bottom\")\n",
        "plt.title(\"Perbandingan Minimum Musim Semi & Gugur\")\n",
        "plt.xlabel(\"Musim\")\n",
        "plt.ylabel(\"Jumlah\")\n",
        "\n",
        "#show bar\n",
        "plt.show()"
      ]
    },
    {
      "cell_type": "markdown",
      "metadata": {
        "id": "DgHI7CiU8DC2"
      },
      "source": [
        "### Pertanyaan 2:"
      ]
    },
    {
      "cell_type": "code",
      "execution_count": 23,
      "metadata": {
        "id": "Go0lCsvO8DC2"
      },
      "outputs": [
        {
          "data": {
            "image/png": "[encoded data removed]",
            "text/plain": [
              "<Figure size 800x600 with 1 Axes>"
            ]
          },
          "metadata": {},
          "output_type": "display_data"
        }
      ],
      "source": [
        "#store dalam value\n",
        "filtered_borrower_values = borrowerD_data.loc[[0, 1], (\"registered\")]\n",
        "\n",
        "#buat bar chart\n",
        "plt.figure(figsize=(8, 6))\n",
        "plt.bar([\"Hari Libur\", \"Hari Kerja\"], filtered_borrower_values)\n",
        "\n",
        "#dekorasi bar chart\n",
        "for i, value in enumerate(filtered_borrower_values):\n",
        "    plt.text(i, value + 0.1, str(round(value, 2)), ha=\"center\", va=\"bottom\")\n",
        "plt.title(\"Perbandingan Mean Peminjam Terlisensi/Hari\")\n",
        "plt.xlabel(\"Hari\")\n",
        "plt.ylabel(\"Jumlah\")\n",
        "\n",
        "#show bar\n",
        "plt.show()"
      ]
    },
    {
      "cell_type": "code",
      "execution_count": 24,
      "metadata": {},
      "outputs": [
        {
          "data": {
            "image/png": "[encoded data removed]",
            "text/plain": [
              "<Figure size 800x600 with 1 Axes>"
            ]
          },
          "metadata": {},
          "output_type": "display_data"
        }
      ],
      "source": [
        "#store dalam value\n",
        "filtered_borrower_values = borrowerD_data.loc[[0, 1], (\"casual\")]\n",
        "\n",
        "#buat bar chart\n",
        "plt.figure(figsize=(8, 6))\n",
        "plt.bar([\"Hari Libur\", \"Hari Kerja\"], filtered_borrower_values)\n",
        "\n",
        "#dekorasi bar chart\n",
        "for i, value in enumerate(filtered_borrower_values):\n",
        "    plt.text(i, value + 0.1, str(round(value, 2)), ha=\"center\", va=\"bottom\")\n",
        "plt.title(\"Perbandingan Mean Peminjam Kasual/Hari\")\n",
        "plt.xlabel(\"Musim\")\n",
        "plt.ylabel(\"Jumlah\")\n",
        "\n",
        "#show bar\n",
        "plt.show()"
      ]
    },
    {
      "cell_type": "code",
      "execution_count": 25,
      "metadata": {},
      "outputs": [
        {
          "data": {
            "image/png": "[encoded data removed]",
            "text/plain": [
              "<Figure size 800x600 with 1 Axes>"
            ]
          },
          "metadata": {},
          "output_type": "display_data"
        }
      ],
      "source": [
        "#store dalam value\n",
        "filtered_borrower_values = borrowerH_data.loc[[0, 1], (\"registered\")]\n",
        "\n",
        "#buat bar chart\n",
        "plt.figure(figsize=(8, 6))\n",
        "plt.bar([\"Hari Libur\", \"Hari Kerja\"], filtered_borrower_values)\n",
        "\n",
        "#dekorasi bar chart\n",
        "for i, value in enumerate(filtered_borrower_values):\n",
        "    plt.text(i, value + 0.1, str(round(value, 2)), ha=\"center\", va=\"bottom\")\n",
        "plt.title(\"Perbandingan Mean Peminjam Terlisensi/Jam\")\n",
        "plt.xlabel(\"Hari\")\n",
        "plt.ylabel(\"Jumlah\")\n",
        "\n",
        "#show bar\n",
        "plt.show()"
      ]
    },
    {
      "cell_type": "code",
      "execution_count": 26,
      "metadata": {},
      "outputs": [
        {
          "data": {
            "image/png": "[encoded data removed]",
            "text/plain": [
              "<Figure size 800x600 with 1 Axes>"
            ]
          },
          "metadata": {},
          "output_type": "display_data"
        }
      ],
      "source": [
        "#store dalam value\n",
        "filtered_borrower_values = borrowerH_data.loc[[0, 1], (\"casual\")]\n",
        "\n",
        "#buat bar chart\n",
        "plt.figure(figsize=(8, 6))\n",
        "plt.bar([\"Hari Libur\", \"Hari Kerja\"], filtered_borrower_values)\n",
        "\n",
        "#dekorasi bar chart\n",
        "for i, value in enumerate(filtered_borrower_values):\n",
        "    plt.text(i, value + 0.1, str(round(value, 2)), ha=\"center\", va=\"bottom\")\n",
        "plt.title(\"Perbandingan Mean Peminjam Kasual/Jam\")\n",
        "plt.xlabel(\"Musim\")\n",
        "plt.ylabel(\"Jumlah\")\n",
        "\n",
        "#show bar\n",
        "plt.show()"
      ]
    },
    {
      "cell_type": "markdown",
      "metadata": {
        "id": "_0-36BDLklRg"
      },
      "source": [
        "**Insight:**\n",
        "- Untuk pertanyaan (1) tidak bisa menggunakan data hour.csv karena untuk menghitung min, diperlukan sebuah peminjaman yang dikalkulasikan lebih dari 1 karena setiap peminjaman mulai dari 1 sehingga hanya bisa menggunakan day.csv atau kesimpulan dari hour.csv yang dikompakkan. (instansi sebanyak n hari itu dibuat menjadi 1)\n",
        "- Untuk pertanyaan (2) bisa menggunakan keduanya karena jika keduanya memiliki perbandingan yang sama. (misal x > y pada hour.csv, maka x > y juga lebih besar pada day.csv)"
      ]
    },
    {
      "cell_type": "markdown",
      "metadata": {
        "id": "9y4VUsmcYNZ5"
      },
      "source": [
        "## Analisis Lanjutan (Opsional)"
      ]
    },
    {
      "cell_type": "code",
      "execution_count": null,
      "metadata": {
        "id": "iWhnzsJGYUCO"
      },
      "outputs": [],
      "source": []
    },
    {
      "cell_type": "markdown",
      "metadata": {
        "id": "_WeHlCeX8DC2"
      },
      "source": [
        "## Conclusion"
      ]
    },
    {
      "cell_type": "markdown",
      "metadata": {
        "id": "ZTcyR48Y8DC2"
      },
      "source": [
        "- Pertanyaan (1): minimum musim salju lebih sedikit daripada minimum musim semi, sedangkan maksimum musim salju lebih besar daripada maksimum musim semi.\n",
        "- Peminjam terlisensi pada hari kerja lebih banyak daripada peminjam kasual, sedangkan peminjam terlisensi pada hari libur lebih sedikit daripada peminjam kasual."
      ]
    }
  ],
  "metadata": {
    "colab": {
      "provenance": []
    },
    "kernelspec": {
      "display_name": "base",
      "language": "python",
      "name": "python3"
    },
    "language_info": {
      "codemirror_mode": {
        "name": "ipython",
        "version": 3
      },
      "file_extension": ".py",
      "mimetype": "text/x-python",
      "name": "python",
      "nbconvert_exporter": "python",
      "pygments_lexer": "ipython3",
      "version": "3.11.5"
    },
    "orig_nbformat": 4
  },
  "nbformat": 4,
  "nbformat_minor": 0
}
