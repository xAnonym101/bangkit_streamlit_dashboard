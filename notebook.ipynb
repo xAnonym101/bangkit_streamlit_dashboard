{
  "cells": [
    {
      "cell_type": "markdown",
      "metadata": {
        "id": "H9wADwK78DCz"
      },
      "source": [
        "# Proyek Analisis Data: Bike Sharing Dataset\n",
        "- **Nama: STEVEN GONAWAN\n",
        "- **Email: xvgonst@gmail.com\n",
        "- **ID Dicoding: steven_gonawan_NDxe"
      ]
    },
    {
      "cell_type": "markdown",
      "metadata": {
        "id": "eE0raob58DC0"
      },
      "source": [
        "## Menentukan Pertanyaan Bisnis"
      ]
    },
    {
      "cell_type": "markdown",
      "metadata": {
        "id": "GmQeQ5YF8DC0"
      },
      "source": [
        "- Pertanyaan 1: Bagaimana perbandingan maksimum dan minimum jumlah peminjaman setiap harinya pada musim semi dan musim salju?\n",
        "- Pertanyaan 2: Apakah hari kerja memiliki rata-rata peminjam terlisensi lebih banyak daripada hari libur?"
      ]
    },
    {
      "cell_type": "markdown",
      "metadata": {
        "id": "H-z4QGlO8DC1"
      },
      "source": [
        "## Import Semua Packages/Library yang Digunakan"
      ]
    },
    {
      "cell_type": "code",
      "execution_count": 1,
      "metadata": {
        "id": "FVYwaObI8DC1"
      },
      "outputs": [],
      "source": [
        "import numpy as np\n",
        "import pandas as pd\n",
        "import matplotlib as plotter\n",
        "import seaborn as sns\n",
        "import matplotlib.pyplot as plt"
      ]
    },
    {
      "cell_type": "markdown",
      "metadata": {
        "id": "h_Sh51Xy8DC1"
      },
      "source": [
        "## Data Wrangling"
      ]
    },
    {
      "cell_type": "markdown",
      "metadata": {
        "id": "sXU2GBYu8DC1"
      },
      "source": [
        "### Gathering Data"
      ]
    },
    {
      "cell_type": "code",
      "execution_count": 2,
      "metadata": {
        "id": "zjCBk1BI8DC1"
      },
      "outputs": [
        {
          "data": {
            "text/html": [
              "<div>\n",
              "<style scoped>\n",
              "    .dataframe tbody tr th:only-of-type {\n",
              "        vertical-align: middle;\n",
              "    }\n",
              "\n",
              "    .dataframe tbody tr th {\n",
              "        vertical-align: top;\n",
              "    }\n",
              "\n",
              "    .dataframe thead th {\n",
              "        text-align: right;\n",
              "    }\n",
              "</style>\n",
              "<table border=\"1\" class=\"dataframe\">\n",
              "  <thead>\n",
              "    <tr style=\"text-align: right;\">\n",
              "      <th></th>\n",
              "      <th>instant</th>\n",
              "      <th>dteday</th>\n",
              "      <th>season</th>\n",
              "      <th>yr</th>\n",
              "      <th>mnth</th>\n",
              "      <th>holiday</th>\n",
              "      <th>weekday</th>\n",
              "      <th>workingday</th>\n",
              "      <th>weathersit</th>\n",
              "      <th>temp</th>\n",
              "      <th>atemp</th>\n",
              "      <th>hum</th>\n",
              "      <th>windspeed</th>\n",
              "      <th>casual</th>\n",
              "      <th>registered</th>\n",
              "      <th>cnt</th>\n",
              "    </tr>\n",
              "  </thead>\n",
              "  <tbody>\n",
              "    <tr>\n",
              "      <th>632</th>\n",
              "      <td>633</td>\n",
              "      <td>2012-09-24</td>\n",
              "      <td>4</td>\n",
              "      <td>1</td>\n",
              "      <td>9</td>\n",
              "      <td>0</td>\n",
              "      <td>1</td>\n",
              "      <td>1</td>\n",
              "      <td>1</td>\n",
              "      <td>0.514167</td>\n",
              "      <td>0.502513</td>\n",
              "      <td>0.492917</td>\n",
              "      <td>0.142404</td>\n",
              "      <td>1001</td>\n",
              "      <td>6435</td>\n",
              "      <td>7436</td>\n",
              "    </tr>\n",
              "    <tr>\n",
              "      <th>169</th>\n",
              "      <td>170</td>\n",
              "      <td>2011-06-19</td>\n",
              "      <td>2</td>\n",
              "      <td>0</td>\n",
              "      <td>6</td>\n",
              "      <td>0</td>\n",
              "      <td>0</td>\n",
              "      <td>0</td>\n",
              "      <td>2</td>\n",
              "      <td>0.699167</td>\n",
              "      <td>0.645846</td>\n",
              "      <td>0.666667</td>\n",
              "      <td>0.102000</td>\n",
              "      <td>1639</td>\n",
              "      <td>3105</td>\n",
              "      <td>4744</td>\n",
              "    </tr>\n",
              "    <tr>\n",
              "      <th>723</th>\n",
              "      <td>724</td>\n",
              "      <td>2012-12-24</td>\n",
              "      <td>1</td>\n",
              "      <td>1</td>\n",
              "      <td>12</td>\n",
              "      <td>0</td>\n",
              "      <td>1</td>\n",
              "      <td>1</td>\n",
              "      <td>2</td>\n",
              "      <td>0.231304</td>\n",
              "      <td>0.258900</td>\n",
              "      <td>0.791304</td>\n",
              "      <td>0.077230</td>\n",
              "      <td>174</td>\n",
              "      <td>746</td>\n",
              "      <td>920</td>\n",
              "    </tr>\n",
              "    <tr>\n",
              "      <th>610</th>\n",
              "      <td>611</td>\n",
              "      <td>2012-09-02</td>\n",
              "      <td>3</td>\n",
              "      <td>1</td>\n",
              "      <td>9</td>\n",
              "      <td>0</td>\n",
              "      <td>0</td>\n",
              "      <td>0</td>\n",
              "      <td>2</td>\n",
              "      <td>0.696667</td>\n",
              "      <td>0.649000</td>\n",
              "      <td>0.815000</td>\n",
              "      <td>0.064071</td>\n",
              "      <td>2613</td>\n",
              "      <td>3197</td>\n",
              "      <td>5810</td>\n",
              "    </tr>\n",
              "    <tr>\n",
              "      <th>160</th>\n",
              "      <td>161</td>\n",
              "      <td>2011-06-10</td>\n",
              "      <td>2</td>\n",
              "      <td>0</td>\n",
              "      <td>6</td>\n",
              "      <td>0</td>\n",
              "      <td>5</td>\n",
              "      <td>1</td>\n",
              "      <td>1</td>\n",
              "      <td>0.755000</td>\n",
              "      <td>0.703292</td>\n",
              "      <td>0.605000</td>\n",
              "      <td>0.140554</td>\n",
              "      <td>815</td>\n",
              "      <td>3771</td>\n",
              "      <td>4586</td>\n",
              "    </tr>\n",
              "  </tbody>\n",
              "</table>\n",
              "</div>"
            ],
            "text/plain": [
              "     instant      dteday  season  yr  mnth  holiday  weekday  workingday  \\\n",
              "632      633  2012-09-24       4   1     9        0        1           1   \n",
              "169      170  2011-06-19       2   0     6        0        0           0   \n",
              "723      724  2012-12-24       1   1    12        0        1           1   \n",
              "610      611  2012-09-02       3   1     9        0        0           0   \n",
              "160      161  2011-06-10       2   0     6        0        5           1   \n",
              "\n",
              "     weathersit      temp     atemp       hum  windspeed  casual  registered  \\\n",
              "632           1  0.514167  0.502513  0.492917   0.142404    1001        6435   \n",
              "169           2  0.699167  0.645846  0.666667   0.102000    1639        3105   \n",
              "723           2  0.231304  0.258900  0.791304   0.077230     174         746   \n",
              "610           2  0.696667  0.649000  0.815000   0.064071    2613        3197   \n",
              "160           1  0.755000  0.703292  0.605000   0.140554     815        3771   \n",
              "\n",
              "      cnt  \n",
              "632  7436  \n",
              "169  4744  \n",
              "723   920  \n",
              "610  5810  \n",
              "160  4586  "
            ]
          },
          "execution_count": 2,
          "metadata": {},
          "output_type": "execute_result"
        }
      ],
      "source": [
        "#ambil data dari day.csv\n",
        "days_data = pd.read_csv(r\"C:data\\day.csv\", delimiter=\",\")\n",
        "days_data.sample(n = 5)"
      ]
    },
    {
      "cell_type": "code",
      "execution_count": 3,
      "metadata": {},
      "outputs": [
        {
          "data": {
            "text/html": [
              "<div>\n",
              "<style scoped>\n",
              "    .dataframe tbody tr th:only-of-type {\n",
              "        vertical-align: middle;\n",
              "    }\n",
              "\n",
              "    .dataframe tbody tr th {\n",
              "        vertical-align: top;\n",
              "    }\n",
              "\n",
              "    .dataframe thead th {\n",
              "        text-align: right;\n",
              "    }\n",
              "</style>\n",
              "<table border=\"1\" class=\"dataframe\">\n",
              "  <thead>\n",
              "    <tr style=\"text-align: right;\">\n",
              "      <th></th>\n",
              "      <th>instant</th>\n",
              "      <th>dteday</th>\n",
              "      <th>season</th>\n",
              "      <th>yr</th>\n",
              "      <th>mnth</th>\n",
              "      <th>hr</th>\n",
              "      <th>holiday</th>\n",
              "      <th>weekday</th>\n",
              "      <th>workingday</th>\n",
              "      <th>weathersit</th>\n",
              "      <th>temp</th>\n",
              "      <th>atemp</th>\n",
              "      <th>hum</th>\n",
              "      <th>windspeed</th>\n",
              "      <th>casual</th>\n",
              "      <th>registered</th>\n",
              "      <th>cnt</th>\n",
              "    </tr>\n",
              "  </thead>\n",
              "  <tbody>\n",
              "    <tr>\n",
              "      <th>14153</th>\n",
              "      <td>14154</td>\n",
              "      <td>2012-08-17</td>\n",
              "      <td>3</td>\n",
              "      <td>1</td>\n",
              "      <td>8</td>\n",
              "      <td>22</td>\n",
              "      <td>0</td>\n",
              "      <td>5</td>\n",
              "      <td>1</td>\n",
              "      <td>3</td>\n",
              "      <td>0.66</td>\n",
              "      <td>0.2424</td>\n",
              "      <td>0.83</td>\n",
              "      <td>0.1940</td>\n",
              "      <td>43</td>\n",
              "      <td>170</td>\n",
              "      <td>213</td>\n",
              "    </tr>\n",
              "    <tr>\n",
              "      <th>3649</th>\n",
              "      <td>3650</td>\n",
              "      <td>2011-06-05</td>\n",
              "      <td>2</td>\n",
              "      <td>0</td>\n",
              "      <td>6</td>\n",
              "      <td>23</td>\n",
              "      <td>0</td>\n",
              "      <td>0</td>\n",
              "      <td>0</td>\n",
              "      <td>1</td>\n",
              "      <td>0.62</td>\n",
              "      <td>0.5909</td>\n",
              "      <td>0.78</td>\n",
              "      <td>0.1343</td>\n",
              "      <td>25</td>\n",
              "      <td>61</td>\n",
              "      <td>86</td>\n",
              "    </tr>\n",
              "    <tr>\n",
              "      <th>1313</th>\n",
              "      <td>1314</td>\n",
              "      <td>2011-02-27</td>\n",
              "      <td>1</td>\n",
              "      <td>0</td>\n",
              "      <td>2</td>\n",
              "      <td>22</td>\n",
              "      <td>0</td>\n",
              "      <td>0</td>\n",
              "      <td>0</td>\n",
              "      <td>2</td>\n",
              "      <td>0.38</td>\n",
              "      <td>0.3939</td>\n",
              "      <td>0.62</td>\n",
              "      <td>0.1045</td>\n",
              "      <td>2</td>\n",
              "      <td>67</td>\n",
              "      <td>69</td>\n",
              "    </tr>\n",
              "    <tr>\n",
              "      <th>11855</th>\n",
              "      <td>11856</td>\n",
              "      <td>2012-05-14</td>\n",
              "      <td>2</td>\n",
              "      <td>1</td>\n",
              "      <td>5</td>\n",
              "      <td>4</td>\n",
              "      <td>0</td>\n",
              "      <td>1</td>\n",
              "      <td>1</td>\n",
              "      <td>2</td>\n",
              "      <td>0.54</td>\n",
              "      <td>0.5152</td>\n",
              "      <td>0.77</td>\n",
              "      <td>0.2239</td>\n",
              "      <td>3</td>\n",
              "      <td>3</td>\n",
              "      <td>6</td>\n",
              "    </tr>\n",
              "    <tr>\n",
              "      <th>16223</th>\n",
              "      <td>16224</td>\n",
              "      <td>2012-11-13</td>\n",
              "      <td>4</td>\n",
              "      <td>1</td>\n",
              "      <td>11</td>\n",
              "      <td>17</td>\n",
              "      <td>0</td>\n",
              "      <td>2</td>\n",
              "      <td>1</td>\n",
              "      <td>1</td>\n",
              "      <td>0.34</td>\n",
              "      <td>0.3030</td>\n",
              "      <td>0.49</td>\n",
              "      <td>0.3582</td>\n",
              "      <td>33</td>\n",
              "      <td>575</td>\n",
              "      <td>608</td>\n",
              "    </tr>\n",
              "  </tbody>\n",
              "</table>\n",
              "</div>"
            ],
            "text/plain": [
              "       instant      dteday  season  yr  mnth  hr  holiday  weekday  \\\n",
              "14153    14154  2012-08-17       3   1     8  22        0        5   \n",
              "3649      3650  2011-06-05       2   0     6  23        0        0   \n",
              "1313      1314  2011-02-27       1   0     2  22        0        0   \n",
              "11855    11856  2012-05-14       2   1     5   4        0        1   \n",
              "16223    16224  2012-11-13       4   1    11  17        0        2   \n",
              "\n",
              "       workingday  weathersit  temp   atemp   hum  windspeed  casual  \\\n",
              "14153           1           3  0.66  0.2424  0.83     0.1940      43   \n",
              "3649            0           1  0.62  0.5909  0.78     0.1343      25   \n",
              "1313            0           2  0.38  0.3939  0.62     0.1045       2   \n",
              "11855           1           2  0.54  0.5152  0.77     0.2239       3   \n",
              "16223           1           1  0.34  0.3030  0.49     0.3582      33   \n",
              "\n",
              "       registered  cnt  \n",
              "14153         170  213  \n",
              "3649           61   86  \n",
              "1313           67   69  \n",
              "11855           3    6  \n",
              "16223         575  608  "
            ]
          },
          "execution_count": 3,
          "metadata": {},
          "output_type": "execute_result"
        }
      ],
      "source": [
        "#ambil data dari hour.csv\n",
        "hours_data = pd.read_csv(r\"data\\hour.csv\", delimiter=\",\")\n",
        "hours_data.sample(n = 5)"
      ]
    },
    {
      "cell_type": "markdown",
      "metadata": {
        "id": "MMi6xGaDkbCi"
      },
      "source": [
        "**Insight:**\n",
        "- Data yang diambil adalah day.csv dan hour.csv\n",
        "- Untuk membaca kedua file tersebut, digunakan pd.read_csv()"
      ]
    },
    {
      "cell_type": "markdown",
      "metadata": {
        "id": "FHSiqaZp8DC1"
      },
      "source": [
        "### Assessing Data"
      ]
    },
    {
      "cell_type": "code",
      "execution_count": 4,
      "metadata": {
        "id": "ax-3tEjc9Cj1"
      },
      "outputs": [
        {
          "data": {
            "text/plain": [
              "0"
            ]
          },
          "execution_count": 4,
          "metadata": {},
          "output_type": "execute_result"
        }
      ],
      "source": [
        "#cek data duplikat untuk days_data\n",
        "days_data.duplicated().sum()"
      ]
    },
    {
      "cell_type": "code",
      "execution_count": 5,
      "metadata": {},
      "outputs": [
        {
          "data": {
            "text/plain": [
              "instant       0\n",
              "dteday        0\n",
              "season        0\n",
              "yr            0\n",
              "mnth          0\n",
              "holiday       0\n",
              "weekday       0\n",
              "workingday    0\n",
              "weathersit    0\n",
              "temp          0\n",
              "atemp         0\n",
              "hum           0\n",
              "windspeed     0\n",
              "casual        0\n",
              "registered    0\n",
              "cnt           0\n",
              "dtype: int64"
            ]
          },
          "execution_count": 5,
          "metadata": {},
          "output_type": "execute_result"
        }
      ],
      "source": [
        "#cek data null value untuk days_data\n",
        "days_data.isnull().sum()"
      ]
    },
    {
      "cell_type": "code",
      "execution_count": 6,
      "metadata": {},
      "outputs": [
        {
          "data": {
            "text/plain": [
              "0"
            ]
          },
          "execution_count": 6,
          "metadata": {},
          "output_type": "execute_result"
        }
      ],
      "source": [
        "#cek data duplikat untuk hours_data\n",
        "hours_data.duplicated().sum()"
      ]
    },
    {
      "cell_type": "code",
      "execution_count": 7,
      "metadata": {},
      "outputs": [
        {
          "data": {
            "text/plain": [
              "instant       0\n",
              "dteday        0\n",
              "season        0\n",
              "yr            0\n",
              "mnth          0\n",
              "hr            0\n",
              "holiday       0\n",
              "weekday       0\n",
              "workingday    0\n",
              "weathersit    0\n",
              "temp          0\n",
              "atemp         0\n",
              "hum           0\n",
              "windspeed     0\n",
              "casual        0\n",
              "registered    0\n",
              "cnt           0\n",
              "dtype: int64"
            ]
          },
          "execution_count": 7,
          "metadata": {},
          "output_type": "execute_result"
        }
      ],
      "source": [
        "#cek data null value untuk hours_data\n",
        "hours_data.isnull().sum()"
      ]
    },
    {
      "cell_type": "markdown",
      "metadata": {
        "id": "7dtxhAPrkhPL"
      },
      "source": [
        "**Insight:**\n",
        "- Mengecek apakah ada data duplikat atau null yang dapat dilihat tidak ada hasil duplikat atau null.\n",
        "- gunakan .isnull() dan .duplicated() untuk mengecek."
      ]
    },
    {
      "cell_type": "markdown",
      "metadata": {
        "id": "EhN5R4hr8DC1"
      },
      "source": [
        "### Cleaning Data"
      ]
    },
    {
      "cell_type": "code",
      "execution_count": 8,
      "metadata": {
        "id": "jVnYpprE9Evz"
      },
      "outputs": [
        {
          "data": {
            "text/html": [
              "<div>\n",
              "<style scoped>\n",
              "    .dataframe tbody tr th:only-of-type {\n",
              "        vertical-align: middle;\n",
              "    }\n",
              "\n",
              "    .dataframe tbody tr th {\n",
              "        vertical-align: top;\n",
              "    }\n",
              "\n",
              "    .dataframe thead th {\n",
              "        text-align: right;\n",
              "    }\n",
              "</style>\n",
              "<table border=\"1\" class=\"dataframe\">\n",
              "  <thead>\n",
              "    <tr style=\"text-align: right;\">\n",
              "      <th></th>\n",
              "      <th>instant</th>\n",
              "      <th>dteday</th>\n",
              "      <th>season</th>\n",
              "      <th>yr</th>\n",
              "      <th>mnth</th>\n",
              "      <th>holiday</th>\n",
              "      <th>weekday</th>\n",
              "      <th>workingday</th>\n",
              "      <th>casual</th>\n",
              "      <th>registered</th>\n",
              "      <th>cnt</th>\n",
              "    </tr>\n",
              "  </thead>\n",
              "  <tbody>\n",
              "    <tr>\n",
              "      <th>403</th>\n",
              "      <td>404</td>\n",
              "      <td>2012-02-08</td>\n",
              "      <td>1</td>\n",
              "      <td>1</td>\n",
              "      <td>2</td>\n",
              "      <td>0</td>\n",
              "      <td>3</td>\n",
              "      <td>1</td>\n",
              "      <td>109</td>\n",
              "      <td>2693</td>\n",
              "      <td>2802</td>\n",
              "    </tr>\n",
              "    <tr>\n",
              "      <th>40</th>\n",
              "      <td>41</td>\n",
              "      <td>2011-02-10</td>\n",
              "      <td>1</td>\n",
              "      <td>0</td>\n",
              "      <td>2</td>\n",
              "      <td>0</td>\n",
              "      <td>4</td>\n",
              "      <td>1</td>\n",
              "      <td>47</td>\n",
              "      <td>1491</td>\n",
              "      <td>1538</td>\n",
              "    </tr>\n",
              "    <tr>\n",
              "      <th>397</th>\n",
              "      <td>398</td>\n",
              "      <td>2012-02-02</td>\n",
              "      <td>1</td>\n",
              "      <td>1</td>\n",
              "      <td>2</td>\n",
              "      <td>0</td>\n",
              "      <td>4</td>\n",
              "      <td>1</td>\n",
              "      <td>190</td>\n",
              "      <td>3571</td>\n",
              "      <td>3761</td>\n",
              "    </tr>\n",
              "    <tr>\n",
              "      <th>285</th>\n",
              "      <td>286</td>\n",
              "      <td>2011-10-13</td>\n",
              "      <td>4</td>\n",
              "      <td>0</td>\n",
              "      <td>10</td>\n",
              "      <td>0</td>\n",
              "      <td>4</td>\n",
              "      <td>1</td>\n",
              "      <td>290</td>\n",
              "      <td>2623</td>\n",
              "      <td>2913</td>\n",
              "    </tr>\n",
              "    <tr>\n",
              "      <th>436</th>\n",
              "      <td>437</td>\n",
              "      <td>2012-03-12</td>\n",
              "      <td>1</td>\n",
              "      <td>1</td>\n",
              "      <td>3</td>\n",
              "      <td>0</td>\n",
              "      <td>1</td>\n",
              "      <td>1</td>\n",
              "      <td>838</td>\n",
              "      <td>4460</td>\n",
              "      <td>5298</td>\n",
              "    </tr>\n",
              "    <tr>\n",
              "      <th>649</th>\n",
              "      <td>650</td>\n",
              "      <td>2012-10-11</td>\n",
              "      <td>4</td>\n",
              "      <td>1</td>\n",
              "      <td>10</td>\n",
              "      <td>0</td>\n",
              "      <td>4</td>\n",
              "      <td>1</td>\n",
              "      <td>834</td>\n",
              "      <td>6736</td>\n",
              "      <td>7570</td>\n",
              "    </tr>\n",
              "    <tr>\n",
              "      <th>157</th>\n",
              "      <td>158</td>\n",
              "      <td>2011-06-07</td>\n",
              "      <td>2</td>\n",
              "      <td>0</td>\n",
              "      <td>6</td>\n",
              "      <td>0</td>\n",
              "      <td>2</td>\n",
              "      <td>1</td>\n",
              "      <td>763</td>\n",
              "      <td>4070</td>\n",
              "      <td>4833</td>\n",
              "    </tr>\n",
              "    <tr>\n",
              "      <th>72</th>\n",
              "      <td>73</td>\n",
              "      <td>2011-03-14</td>\n",
              "      <td>1</td>\n",
              "      <td>0</td>\n",
              "      <td>3</td>\n",
              "      <td>0</td>\n",
              "      <td>1</td>\n",
              "      <td>1</td>\n",
              "      <td>359</td>\n",
              "      <td>1687</td>\n",
              "      <td>2046</td>\n",
              "    </tr>\n",
              "    <tr>\n",
              "      <th>253</th>\n",
              "      <td>254</td>\n",
              "      <td>2011-09-11</td>\n",
              "      <td>3</td>\n",
              "      <td>0</td>\n",
              "      <td>9</td>\n",
              "      <td>0</td>\n",
              "      <td>0</td>\n",
              "      <td>0</td>\n",
              "      <td>1633</td>\n",
              "      <td>3413</td>\n",
              "      <td>5046</td>\n",
              "    </tr>\n",
              "    <tr>\n",
              "      <th>90</th>\n",
              "      <td>91</td>\n",
              "      <td>2011-04-01</td>\n",
              "      <td>2</td>\n",
              "      <td>0</td>\n",
              "      <td>4</td>\n",
              "      <td>0</td>\n",
              "      <td>5</td>\n",
              "      <td>1</td>\n",
              "      <td>307</td>\n",
              "      <td>1920</td>\n",
              "      <td>2227</td>\n",
              "    </tr>\n",
              "  </tbody>\n",
              "</table>\n",
              "</div>"
            ],
            "text/plain": [
              "     instant      dteday  season  yr  mnth  holiday  weekday  workingday  \\\n",
              "403      404  2012-02-08       1   1     2        0        3           1   \n",
              "40        41  2011-02-10       1   0     2        0        4           1   \n",
              "397      398  2012-02-02       1   1     2        0        4           1   \n",
              "285      286  2011-10-13       4   0    10        0        4           1   \n",
              "436      437  2012-03-12       1   1     3        0        1           1   \n",
              "649      650  2012-10-11       4   1    10        0        4           1   \n",
              "157      158  2011-06-07       2   0     6        0        2           1   \n",
              "72        73  2011-03-14       1   0     3        0        1           1   \n",
              "253      254  2011-09-11       3   0     9        0        0           0   \n",
              "90        91  2011-04-01       2   0     4        0        5           1   \n",
              "\n",
              "     casual  registered   cnt  \n",
              "403     109        2693  2802  \n",
              "40       47        1491  1538  \n",
              "397     190        3571  3761  \n",
              "285     290        2623  2913  \n",
              "436     838        4460  5298  \n",
              "649     834        6736  7570  \n",
              "157     763        4070  4833  \n",
              "72      359        1687  2046  \n",
              "253    1633        3413  5046  \n",
              "90      307        1920  2227  "
            ]
          },
          "execution_count": 8,
          "metadata": {},
          "output_type": "execute_result"
        }
      ],
      "source": [
        "#drop kolom weathersit, temp, atemp, hum, windspeed pada filtered_days_data\n",
        "filtered_days_data = days_data.drop(columns=[\"weathersit\", \"temp\", \"atemp\", \"hum\", \"windspeed\"])\n",
        "filtered_days_data.sample(n = 10)"
      ]
    },
    {
      "cell_type": "code",
      "execution_count": 9,
      "metadata": {},
      "outputs": [
        {
          "name": "stdout",
          "output_type": "stream",
          "text": [
            "object\n",
            "datetime64[ns]\n"
          ]
        }
      ],
      "source": [
        "#konversi dteday yang (####) menjadi format date-time yang benar untuk filtered_days_data\n",
        "#asal:\n",
        "print(filtered_days_data[\"dteday\"].dtype)\n",
        "\n",
        "#akhir:\n",
        "filtered_days_data[\"dteday\"] = pd.to_datetime(filtered_days_data[\"dteday\"])\n",
        "filtered_days_data.sample(n=10)\n",
        "print(filtered_days_data[\"dteday\"].dtype)"
      ]
    },
    {
      "cell_type": "code",
      "execution_count": 10,
      "metadata": {},
      "outputs": [
        {
          "data": {
            "text/html": [
              "<div>\n",
              "<style scoped>\n",
              "    .dataframe tbody tr th:only-of-type {\n",
              "        vertical-align: middle;\n",
              "    }\n",
              "\n",
              "    .dataframe tbody tr th {\n",
              "        vertical-align: top;\n",
              "    }\n",
              "\n",
              "    .dataframe thead th {\n",
              "        text-align: right;\n",
              "    }\n",
              "</style>\n",
              "<table border=\"1\" class=\"dataframe\">\n",
              "  <thead>\n",
              "    <tr style=\"text-align: right;\">\n",
              "      <th></th>\n",
              "      <th>instant</th>\n",
              "      <th>dteday</th>\n",
              "      <th>season</th>\n",
              "      <th>yr</th>\n",
              "      <th>mnth</th>\n",
              "      <th>hr</th>\n",
              "      <th>holiday</th>\n",
              "      <th>weekday</th>\n",
              "      <th>workingday</th>\n",
              "      <th>casual</th>\n",
              "      <th>registered</th>\n",
              "      <th>cnt</th>\n",
              "    </tr>\n",
              "  </thead>\n",
              "  <tbody>\n",
              "    <tr>\n",
              "      <th>1429</th>\n",
              "      <td>1430</td>\n",
              "      <td>2011-03-04</td>\n",
              "      <td>1</td>\n",
              "      <td>0</td>\n",
              "      <td>3</td>\n",
              "      <td>20</td>\n",
              "      <td>0</td>\n",
              "      <td>5</td>\n",
              "      <td>1</td>\n",
              "      <td>9</td>\n",
              "      <td>78</td>\n",
              "      <td>87</td>\n",
              "    </tr>\n",
              "    <tr>\n",
              "      <th>3601</th>\n",
              "      <td>3602</td>\n",
              "      <td>2011-06-03</td>\n",
              "      <td>2</td>\n",
              "      <td>0</td>\n",
              "      <td>6</td>\n",
              "      <td>23</td>\n",
              "      <td>0</td>\n",
              "      <td>5</td>\n",
              "      <td>1</td>\n",
              "      <td>30</td>\n",
              "      <td>141</td>\n",
              "      <td>171</td>\n",
              "    </tr>\n",
              "    <tr>\n",
              "      <th>17361</th>\n",
              "      <td>17362</td>\n",
              "      <td>2012-12-31</td>\n",
              "      <td>1</td>\n",
              "      <td>1</td>\n",
              "      <td>12</td>\n",
              "      <td>6</td>\n",
              "      <td>0</td>\n",
              "      <td>1</td>\n",
              "      <td>1</td>\n",
              "      <td>0</td>\n",
              "      <td>40</td>\n",
              "      <td>40</td>\n",
              "    </tr>\n",
              "    <tr>\n",
              "      <th>4318</th>\n",
              "      <td>4319</td>\n",
              "      <td>2011-07-03</td>\n",
              "      <td>3</td>\n",
              "      <td>0</td>\n",
              "      <td>7</td>\n",
              "      <td>20</td>\n",
              "      <td>0</td>\n",
              "      <td>0</td>\n",
              "      <td>0</td>\n",
              "      <td>83</td>\n",
              "      <td>93</td>\n",
              "      <td>176</td>\n",
              "    </tr>\n",
              "    <tr>\n",
              "      <th>10478</th>\n",
              "      <td>10479</td>\n",
              "      <td>2012-03-17</td>\n",
              "      <td>1</td>\n",
              "      <td>1</td>\n",
              "      <td>3</td>\n",
              "      <td>17</td>\n",
              "      <td>0</td>\n",
              "      <td>6</td>\n",
              "      <td>0</td>\n",
              "      <td>291</td>\n",
              "      <td>357</td>\n",
              "      <td>648</td>\n",
              "    </tr>\n",
              "    <tr>\n",
              "      <th>13130</th>\n",
              "      <td>13131</td>\n",
              "      <td>2012-07-06</td>\n",
              "      <td>3</td>\n",
              "      <td>1</td>\n",
              "      <td>7</td>\n",
              "      <td>7</td>\n",
              "      <td>0</td>\n",
              "      <td>5</td>\n",
              "      <td>1</td>\n",
              "      <td>20</td>\n",
              "      <td>333</td>\n",
              "      <td>353</td>\n",
              "    </tr>\n",
              "    <tr>\n",
              "      <th>5372</th>\n",
              "      <td>5373</td>\n",
              "      <td>2011-08-16</td>\n",
              "      <td>3</td>\n",
              "      <td>0</td>\n",
              "      <td>8</td>\n",
              "      <td>18</td>\n",
              "      <td>0</td>\n",
              "      <td>2</td>\n",
              "      <td>1</td>\n",
              "      <td>54</td>\n",
              "      <td>516</td>\n",
              "      <td>570</td>\n",
              "    </tr>\n",
              "    <tr>\n",
              "      <th>5795</th>\n",
              "      <td>5796</td>\n",
              "      <td>2011-09-03</td>\n",
              "      <td>3</td>\n",
              "      <td>0</td>\n",
              "      <td>9</td>\n",
              "      <td>22</td>\n",
              "      <td>0</td>\n",
              "      <td>6</td>\n",
              "      <td>0</td>\n",
              "      <td>66</td>\n",
              "      <td>96</td>\n",
              "      <td>162</td>\n",
              "    </tr>\n",
              "    <tr>\n",
              "      <th>13952</th>\n",
              "      <td>13953</td>\n",
              "      <td>2012-08-09</td>\n",
              "      <td>3</td>\n",
              "      <td>1</td>\n",
              "      <td>8</td>\n",
              "      <td>13</td>\n",
              "      <td>0</td>\n",
              "      <td>4</td>\n",
              "      <td>1</td>\n",
              "      <td>80</td>\n",
              "      <td>201</td>\n",
              "      <td>281</td>\n",
              "    </tr>\n",
              "    <tr>\n",
              "      <th>12173</th>\n",
              "      <td>12174</td>\n",
              "      <td>2012-05-27</td>\n",
              "      <td>2</td>\n",
              "      <td>1</td>\n",
              "      <td>5</td>\n",
              "      <td>10</td>\n",
              "      <td>0</td>\n",
              "      <td>0</td>\n",
              "      <td>0</td>\n",
              "      <td>209</td>\n",
              "      <td>215</td>\n",
              "      <td>424</td>\n",
              "    </tr>\n",
              "  </tbody>\n",
              "</table>\n",
              "</div>"
            ],
            "text/plain": [
              "       instant      dteday  season  yr  mnth  hr  holiday  weekday  \\\n",
              "1429      1430  2011-03-04       1   0     3  20        0        5   \n",
              "3601      3602  2011-06-03       2   0     6  23        0        5   \n",
              "17361    17362  2012-12-31       1   1    12   6        0        1   \n",
              "4318      4319  2011-07-03       3   0     7  20        0        0   \n",
              "10478    10479  2012-03-17       1   1     3  17        0        6   \n",
              "13130    13131  2012-07-06       3   1     7   7        0        5   \n",
              "5372      5373  2011-08-16       3   0     8  18        0        2   \n",
              "5795      5796  2011-09-03       3   0     9  22        0        6   \n",
              "13952    13953  2012-08-09       3   1     8  13        0        4   \n",
              "12173    12174  2012-05-27       2   1     5  10        0        0   \n",
              "\n",
              "       workingday  casual  registered  cnt  \n",
              "1429            1       9          78   87  \n",
              "3601            1      30         141  171  \n",
              "17361           1       0          40   40  \n",
              "4318            0      83          93  176  \n",
              "10478           0     291         357  648  \n",
              "13130           1      20         333  353  \n",
              "5372            1      54         516  570  \n",
              "5795            0      66          96  162  \n",
              "13952           1      80         201  281  \n",
              "12173           0     209         215  424  "
            ]
          },
          "execution_count": 10,
          "metadata": {},
          "output_type": "execute_result"
        }
      ],
      "source": [
        "#drop kolom weathersit, temp, atemp, hum, windspeed pada filtered_days_data\n",
        "filtered_hours_data = hours_data.drop(columns=[\"weathersit\", \"temp\", \"atemp\", \"hum\", \"windspeed\"])\n",
        "filtered_hours_data.sample(n = 10)"
      ]
    },
    {
      "cell_type": "code",
      "execution_count": 11,
      "metadata": {},
      "outputs": [
        {
          "name": "stdout",
          "output_type": "stream",
          "text": [
            "object\n",
            "datetime64[ns]\n"
          ]
        }
      ],
      "source": [
        "#konversi dteday yang (####) menjadi format date-time yang benar untuk filtered_hours_data\n",
        "#asal:\n",
        "print(filtered_hours_data[\"dteday\"].dtype)\n",
        "\n",
        "#akhir:\n",
        "filtered_hours_data[\"dteday\"] = pd.to_datetime(filtered_hours_data[\"dteday\"])\n",
        "filtered_hours_data.sample(n=10)\n",
        "print(filtered_hours_data[\"dteday\"].dtype)"
      ]
    },
    {
      "cell_type": "markdown",
      "metadata": {
        "id": "Q_5ejIqckiSP"
      },
      "source": [
        "**Insight:**\n",
        "1. Menghilangkan kolom yang tidak dipakai.\n",
        "2. Memperbaiki dteday yang berbentuk objek (dikarenakan format salah) dan konversi jadi datetime64."
      ]
    },
    {
      "cell_type": "markdown",
      "metadata": {
        "id": "gp-Y6wU38DC1"
      },
      "source": [
        "## Exploratory Data Analysis (EDA)"
      ]
    },
    {
      "cell_type": "markdown",
      "metadata": {
        "id": "MW7WF2kr8DC1"
      },
      "source": [
        "### Explore ..."
      ]
    },
    {
      "cell_type": "code",
      "execution_count": 12,
      "metadata": {
        "id": "e9CQCZjk8DC2"
      },
      "outputs": [
        {
          "data": {
            "text/html": [
              "<div>\n",
              "<style scoped>\n",
              "    .dataframe tbody tr th:only-of-type {\n",
              "        vertical-align: middle;\n",
              "    }\n",
              "\n",
              "    .dataframe tbody tr th {\n",
              "        vertical-align: top;\n",
              "    }\n",
              "\n",
              "    .dataframe thead tr th {\n",
              "        text-align: left;\n",
              "    }\n",
              "\n",
              "    .dataframe thead tr:last-of-type th {\n",
              "        text-align: right;\n",
              "    }\n",
              "</style>\n",
              "<table border=\"1\" class=\"dataframe\">\n",
              "  <thead>\n",
              "    <tr>\n",
              "      <th></th>\n",
              "      <th>instant</th>\n",
              "      <th colspan=\"2\" halign=\"left\">cnt</th>\n",
              "    </tr>\n",
              "    <tr>\n",
              "      <th></th>\n",
              "      <th>nunique</th>\n",
              "      <th>max</th>\n",
              "      <th>min</th>\n",
              "    </tr>\n",
              "    <tr>\n",
              "      <th>season</th>\n",
              "      <th></th>\n",
              "      <th></th>\n",
              "      <th></th>\n",
              "    </tr>\n",
              "  </thead>\n",
              "  <tbody>\n",
              "    <tr>\n",
              "      <th>1</th>\n",
              "      <td>181</td>\n",
              "      <td>7836</td>\n",
              "      <td>431</td>\n",
              "    </tr>\n",
              "    <tr>\n",
              "      <th>2</th>\n",
              "      <td>184</td>\n",
              "      <td>8362</td>\n",
              "      <td>795</td>\n",
              "    </tr>\n",
              "    <tr>\n",
              "      <th>3</th>\n",
              "      <td>188</td>\n",
              "      <td>8714</td>\n",
              "      <td>1115</td>\n",
              "    </tr>\n",
              "    <tr>\n",
              "      <th>4</th>\n",
              "      <td>178</td>\n",
              "      <td>8555</td>\n",
              "      <td>22</td>\n",
              "    </tr>\n",
              "  </tbody>\n",
              "</table>\n",
              "</div>"
            ],
            "text/plain": [
              "       instant   cnt      \n",
              "       nunique   max   min\n",
              "season                    \n",
              "1          181  7836   431\n",
              "2          184  8362   795\n",
              "3          188  8714  1115\n",
              "4          178  8555    22"
            ]
          },
          "execution_count": 12,
          "metadata": {},
          "output_type": "execute_result"
        }
      ],
      "source": [
        "#groupby() untuk filtered_days_data (pertanyaan no.1)\n",
        "minmaxD_data = filtered_days_data.groupby(by=\"season\").agg({\n",
        "    \"instant\": \"nunique\",\n",
        "    \"cnt\": [\"max\", \"min\"]\n",
        "})\n",
        "\n",
        "#print\n",
        "minmaxD_data"
      ]
    },
    {
      "cell_type": "code",
      "execution_count": 13,
      "metadata": {},
      "outputs": [
        {
          "data": {
            "text/html": [
              "<div>\n",
              "<style scoped>\n",
              "    .dataframe tbody tr th:only-of-type {\n",
              "        vertical-align: middle;\n",
              "    }\n",
              "\n",
              "    .dataframe tbody tr th {\n",
              "        vertical-align: top;\n",
              "    }\n",
              "\n",
              "    .dataframe thead th {\n",
              "        text-align: right;\n",
              "    }\n",
              "</style>\n",
              "<table border=\"1\" class=\"dataframe\">\n",
              "  <thead>\n",
              "    <tr style=\"text-align: right;\">\n",
              "      <th></th>\n",
              "      <th>instant</th>\n",
              "      <th>registered</th>\n",
              "      <th>casual</th>\n",
              "    </tr>\n",
              "    <tr>\n",
              "      <th>workingday</th>\n",
              "      <th></th>\n",
              "      <th></th>\n",
              "      <th></th>\n",
              "    </tr>\n",
              "  </thead>\n",
              "  <tbody>\n",
              "    <tr>\n",
              "      <th>0</th>\n",
              "      <td>231</td>\n",
              "      <td>2959.034632</td>\n",
              "      <td>1371.134199</td>\n",
              "    </tr>\n",
              "    <tr>\n",
              "      <th>1</th>\n",
              "      <td>500</td>\n",
              "      <td>3978.250000</td>\n",
              "      <td>606.570000</td>\n",
              "    </tr>\n",
              "  </tbody>\n",
              "</table>\n",
              "</div>"
            ],
            "text/plain": [
              "            instant   registered       casual\n",
              "workingday                                   \n",
              "0               231  2959.034632  1371.134199\n",
              "1               500  3978.250000   606.570000"
            ]
          },
          "execution_count": 13,
          "metadata": {},
          "output_type": "execute_result"
        }
      ],
      "source": [
        "#groupby() untuk filtered_days_data (pertanyaan no.2)\n",
        "borrowerD_data = filtered_days_data.groupby(by=\"workingday\").agg({\n",
        "    \"instant\": \"nunique\",\n",
        "    \"registered\": \"mean\",\n",
        "    \"casual\": \"mean\"\n",
        "})\n",
        "\n",
        "#print\n",
        "borrowerD_data"
      ]
    },
    {
      "cell_type": "code",
      "execution_count": 14,
      "metadata": {},
      "outputs": [
        {
          "data": {
            "text/html": [
              "<div>\n",
              "<style scoped>\n",
              "    .dataframe tbody tr th:only-of-type {\n",
              "        vertical-align: middle;\n",
              "    }\n",
              "\n",
              "    .dataframe tbody tr th {\n",
              "        vertical-align: top;\n",
              "    }\n",
              "\n",
              "    .dataframe thead tr th {\n",
              "        text-align: left;\n",
              "    }\n",
              "\n",
              "    .dataframe thead tr:last-of-type th {\n",
              "        text-align: right;\n",
              "    }\n",
              "</style>\n",
              "<table border=\"1\" class=\"dataframe\">\n",
              "  <thead>\n",
              "    <tr>\n",
              "      <th></th>\n",
              "      <th>instant</th>\n",
              "      <th colspan=\"2\" halign=\"left\">cnt</th>\n",
              "    </tr>\n",
              "    <tr>\n",
              "      <th></th>\n",
              "      <th>nunique</th>\n",
              "      <th>max</th>\n",
              "      <th>min</th>\n",
              "    </tr>\n",
              "    <tr>\n",
              "      <th>season</th>\n",
              "      <th></th>\n",
              "      <th></th>\n",
              "      <th></th>\n",
              "    </tr>\n",
              "  </thead>\n",
              "  <tbody>\n",
              "    <tr>\n",
              "      <th>1</th>\n",
              "      <td>4242</td>\n",
              "      <td>801</td>\n",
              "      <td>1</td>\n",
              "    </tr>\n",
              "    <tr>\n",
              "      <th>2</th>\n",
              "      <td>4409</td>\n",
              "      <td>957</td>\n",
              "      <td>1</td>\n",
              "    </tr>\n",
              "    <tr>\n",
              "      <th>3</th>\n",
              "      <td>4496</td>\n",
              "      <td>977</td>\n",
              "      <td>1</td>\n",
              "    </tr>\n",
              "    <tr>\n",
              "      <th>4</th>\n",
              "      <td>4232</td>\n",
              "      <td>967</td>\n",
              "      <td>1</td>\n",
              "    </tr>\n",
              "  </tbody>\n",
              "</table>\n",
              "</div>"
            ],
            "text/plain": [
              "       instant  cnt    \n",
              "       nunique  max min\n",
              "season                 \n",
              "1         4242  801   1\n",
              "2         4409  957   1\n",
              "3         4496  977   1\n",
              "4         4232  967   1"
            ]
          },
          "execution_count": 14,
          "metadata": {},
          "output_type": "execute_result"
        }
      ],
      "source": [
        "#groupby() untuk filtered_hourss_data (pertanyaan no.1)\n",
        "minmaxH_data = filtered_hours_data.groupby(by=\"season\").agg({\n",
        "    \"instant\": \"nunique\",\n",
        "    \"cnt\": [\"max\", \"min\"]\n",
        "})\n",
        "\n",
        "#print\n",
        "minmaxH_data"
      ]
    },
    {
      "cell_type": "code",
      "execution_count": 15,
      "metadata": {},
      "outputs": [
        {
          "data": {
            "text/html": [
              "<div>\n",
              "<style scoped>\n",
              "    .dataframe tbody tr th:only-of-type {\n",
              "        vertical-align: middle;\n",
              "    }\n",
              "\n",
              "    .dataframe tbody tr th {\n",
              "        vertical-align: top;\n",
              "    }\n",
              "\n",
              "    .dataframe thead th {\n",
              "        text-align: right;\n",
              "    }\n",
              "</style>\n",
              "<table border=\"1\" class=\"dataframe\">\n",
              "  <thead>\n",
              "    <tr style=\"text-align: right;\">\n",
              "      <th></th>\n",
              "      <th>instant</th>\n",
              "      <th>registered</th>\n",
              "      <th>casual</th>\n",
              "    </tr>\n",
              "    <tr>\n",
              "      <th>workingday</th>\n",
              "      <th></th>\n",
              "      <th></th>\n",
              "      <th></th>\n",
              "    </tr>\n",
              "  </thead>\n",
              "  <tbody>\n",
              "    <tr>\n",
              "      <th>0</th>\n",
              "      <td>5514</td>\n",
              "      <td>124.0</td>\n",
              "      <td>57.0</td>\n",
              "    </tr>\n",
              "    <tr>\n",
              "      <th>1</th>\n",
              "      <td>11865</td>\n",
              "      <td>168.0</td>\n",
              "      <td>26.0</td>\n",
              "    </tr>\n",
              "  </tbody>\n",
              "</table>\n",
              "</div>"
            ],
            "text/plain": [
              "            instant  registered  casual\n",
              "workingday                             \n",
              "0              5514       124.0    57.0\n",
              "1             11865       168.0    26.0"
            ]
          },
          "execution_count": 15,
          "metadata": {},
          "output_type": "execute_result"
        }
      ],
      "source": [
        "#groupby() untuk filtered_hours_data (pertanyaan no.2)\n",
        "borrowerH_data = filtered_hours_data.groupby(by=\"workingday\").agg({\n",
        "    \"instant\": \"nunique\",\n",
        "    \"registered\": \"mean\",\n",
        "    \"casual\": \"mean\"\n",
        "})\n",
        "\n",
        "#print\n",
        "round(borrowerH_data)"
      ]
    },
    {
      "cell_type": "markdown",
      "metadata": {
        "id": "th_Lzl2Fkj9O"
      },
      "source": [
        "**Insight:**\n",
        "- Untuk pertanyaan (1) diperlukan perbandingan antara peminjaman paling tinggi dan rendah (min/max) sedangkan pertanyaan (2) diperlukan mencari mean dari peminjam terlisensi dan peminjam kasual.\n",
        "- Untuk ini, digunakan .groupby() dengan by=\"\" tergantung kebutuhan yang menjadi anchor point atau dasar yang akan dibandingkan."
      ]
    },
    {
      "cell_type": "markdown",
      "metadata": {
        "id": "zsyZjqak8DC2"
      },
      "source": [
        "## Visualization & Explanatory Analysis"
      ]
    },
    {
      "cell_type": "markdown",
      "metadata": {
        "id": "HZxOiQ6n8DC2"
      },
      "source": [
        "### Pertanyaan 1:"
      ]
    },
    {
      "cell_type": "code",
      "execution_count": 52,
      "metadata": {
        "id": "1swJUdAD8DC2"
      },
      "outputs": [
        {
          "data": {
            "image/png": "[encoded data removed]",
            "text/plain": [
              "<Figure size 800x600 with 1 Axes>"
            ]
          },
          "metadata": {},
          "output_type": "display_data"
        }
      ],
      "source": [
        "#store dalam value\n",
        "filtered_min_values = minmaxD_data.loc[[1, 4], (\"cnt\", \"min\")]\n",
        "\n",
        "#buat bar chart\n",
        "plt.figure(figsize=(8, 6))\n",
        "plt.bar([\"Semi\", \"Salju\"], filtered_min_values, color=[\"#ABD8E6\", \"#E3E3E3\"])\n",
        "\n",
        "#dekorasi bar chart\n",
        "for i, value in enumerate(filtered_min_values):\n",
        "    plt.text(i, value + 0.1, str(round(value, 2)), ha=\"center\", va=\"bottom\")\n",
        "plt.title(\"Perbandingan Minimum Musim Semi & Salju\")\n",
        "plt.xlabel(\"Musim\")\n",
        "plt.ylabel(\"Jumlah\")\n",
        "\n",
        "#show bar\n",
        "plt.show()\n"
      ]
    },
    {
      "cell_type": "code",
      "execution_count": 53,
      "metadata": {},
      "outputs": [
        {
          "data": {
            "image/png": "[encoded data removed]",
            "text/plain": [
              "<Figure size 800x600 with 1 Axes>"
            ]
          },
          "metadata": {},
          "output_type": "display_data"
        }
      ],
      "source": [
        "#store dalam value\n",
        "filtered_max_values = minmaxD_data.loc[[1, 4], (\"cnt\", \"max\")]\n",
        "\n",
        "#buat bar chart\n",
        "plt.figure(figsize=(8, 6))\n",
        "plt.bar([\"Semi\", \"Salju\"], filtered_max_values, color=[\"#ABD8E6\", \"#E3E3E3\"])\n",
        "\n",
        "#dekorasi bar chart\n",
        "for i, value in enumerate(filtered_max_values):\n",
        "    plt.text(i, value + 0.1, str(round(value, 2)), ha=\"center\", va=\"bottom\")\n",
        "plt.title(\"Perbandingan Maksimum Musim Semi & Salju\")\n",
        "plt.xlabel(\"Musim\")\n",
        "plt.ylabel(\"Jumlah\")\n",
        "\n",
        "#show bar\n",
        "plt.show()"
      ]
    },
    {
      "cell_type": "markdown",
      "metadata": {
        "id": "DgHI7CiU8DC2"
      },
      "source": [
        "### Pertanyaan 2:"
      ]
    },
    {
      "cell_type": "code",
      "execution_count": 47,
      "metadata": {
        "id": "Go0lCsvO8DC2"
      },
      "outputs": [
        {
          "data": {
            "image/png": "[encoded data removed]",
            "text/plain": [
              "<Figure size 800x600 with 1 Axes>"
            ]
          },
          "metadata": {},
          "output_type": "display_data"
        }
      ],
      "source": [
        "#store dalam value\n",
        "filtered_borrower_values = borrowerD_data.loc[[0, 1], (\"registered\")]\n",
        "\n",
        "#buat bar chart\n",
        "plt.figure(figsize=(8, 6))\n",
        "plt.bar([\"Hari Libur\", \"Hari Kerja\"], filtered_borrower_values, color=[\"#90CAF9\", \"#FF5733\"])\n",
        "\n",
        "#dekorasi bar chart\n",
        "for i, value in enumerate(filtered_borrower_values):\n",
        "    plt.text(i, value + 0.1, str(round(value, 2)), ha=\"center\", va=\"bottom\")\n",
        "plt.title(\"Perbandingan Mean Peminjam Terlisensi/Hari Pada Hari Kerja dan Hari Libur\")\n",
        "plt.xlabel(\"Hari\")\n",
        "plt.ylabel(\"Jumlah\")\n",
        "\n",
        "#show bar\n",
        "plt.show()"
      ]
    },
    {
      "cell_type": "code",
      "execution_count": 48,
      "metadata": {},
      "outputs": [
        {
          "data": {
            "image/png": "[encoded data removed]",
            "text/plain": [
              "<Figure size 800x600 with 1 Axes>"
            ]
          },
          "metadata": {},
          "output_type": "display_data"
        }
      ],
      "source": [
        "#store dalam value\n",
        "filtered_borrower_values = borrowerH_data.loc[[0, 1], (\"registered\")]\n",
        "\n",
        "#buat bar chart\n",
        "plt.figure(figsize=(8, 6))\n",
        "plt.bar([\"Hari Libur\", \"Hari Kerja\"], filtered_borrower_values, color=[\"#90CAF9\", \"#FF5733\"])\n",
        "\n",
        "#dekorasi bar chart\n",
        "for i, value in enumerate(filtered_borrower_values):\n",
        "    plt.text(i, value + 0.1, str(round(value, 2)), ha=\"center\", va=\"bottom\")\n",
        "plt.title(\"Perbandingan Mean Peminjam Terlisensi/Jam Pada Hari Kerja dan Hari Libur\")\n",
        "plt.xlabel(\"Hari\")\n",
        "plt.ylabel(\"Jumlah\")\n",
        "\n",
        "#show bar\n",
        "plt.show()"
      ]
    },
    {
      "cell_type": "markdown",
      "metadata": {
        "id": "_0-36BDLklRg"
      },
      "source": [
        "**Insight:**\n",
        "- Untuk pertanyaan (1) tidak bisa menggunakan data hour.csv karena untuk menghitung min, diperlukan sebuah peminjaman yang dikalkulasikan lebih dari 1 karena setiap peminjaman mulai dari 1 sehingga hanya bisa menggunakan day.csv atau kesimpulan dari hour.csv yang dikompakkan. (instansi sebanyak n hari itu dibuat menjadi 1)\n",
        "- Untuk pertanyaan (2) bisa menggunakan keduanya karena jika keduanya memiliki perbandingan yang sama. (misal x > y pada hour.csv, maka x > y juga lebih besar pada day.csv)"
      ]
    },
    {
      "cell_type": "markdown",
      "metadata": {
        "id": "_WeHlCeX8DC2"
      },
      "source": [
        "## Conclusion"
      ]
    },
    {
      "cell_type": "markdown",
      "metadata": {
        "id": "ZTcyR48Y8DC2"
      },
      "source": [
        "- Pertanyaan (1): minimum musim salju lebih sedikit daripada minimum musim semi, sedangkan maksimum musim salju lebih besar daripada maksimum musim semi.\n",
        "- Peminjam terlisensi pada hari kerja lebih banyak daripada peminjam kasual, sedangkan peminjam terlisensi pada hari libur lebih sedikit daripada peminjam kasual."
      ]
    }
  ],
  "metadata": {
    "colab": {
      "provenance": []
    },
    "kernelspec": {
      "display_name": "base",
      "language": "python",
      "name": "python3"
    },
    "language_info": {
      "codemirror_mode": {
        "name": "ipython",
        "version": 3
      },
      "file_extension": ".py",
      "mimetype": "text/x-python",
      "name": "python",
      "nbconvert_exporter": "python",
      "pygments_lexer": "ipython3",
      "version": "3.11.5"
    },
    "orig_nbformat": 4
  },
  "nbformat": 4,
  "nbformat_minor": 0
}
